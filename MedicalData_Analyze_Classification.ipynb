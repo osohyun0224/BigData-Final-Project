{
  "nbformat": 4,
  "nbformat_minor": 0,
  "metadata": {
    "colab": {
      "provenance": [],
      "gpuType": "T4",
      "authorship_tag": "ABX9TyMeP19ZbJDylL0RLlPtbc8s",
      "include_colab_link": true
    },
    "kernelspec": {
      "name": "ir",
      "display_name": "R"
    },
    "language_info": {
      "name": "R"
    },
    "accelerator": "GPU"
  },
  "cells": [
    {
      "cell_type": "markdown",
      "metadata": {
        "id": "view-in-github",
        "colab_type": "text"
      },
      "source": [
        "<a href=\"https://colab.research.google.com/github/osohyun0224/BigData-Final-Project/blob/master/MedicalData_Analyze_Classification.ipynb\" target=\"_parent\"><img src=\"https://colab.research.google.com/assets/colab-badge.svg\" alt=\"Open In Colab\"/></a>"
      ]
    },
    {
      "cell_type": "code",
      "execution_count": 1,
      "metadata": {
        "colab": {
          "base_uri": "https://localhost:8080/",
          "height": 34
        },
        "id": "1kPSuN74QKcD",
        "outputId": "8a628a51-3e1c-43dd-c4a3-2260fdabb21a"
      },
      "outputs": [
        {
          "output_type": "display_data",
          "data": {
            "text/html": [
              "<style>\n",
              ".list-inline {list-style: none; margin:0; padding: 0}\n",
              ".list-inline>li {display: inline-block}\n",
              ".list-inline>li:not(:last-child)::after {content: \"\\00b7\"; padding: 0 .5ex}\n",
              "</style>\n",
              "<ol class=list-inline><li>'healthcare_dataset.csv'</li><li>'sample_data'</li></ol>\n"
            ],
            "text/markdown": "1. 'healthcare_dataset.csv'\n2. 'sample_data'\n\n\n",
            "text/latex": "\\begin{enumerate*}\n\\item 'healthcare\\_dataset.csv'\n\\item 'sample\\_data'\n\\end{enumerate*}\n",
            "text/plain": [
              "[1] \"healthcare_dataset.csv\" \"sample_data\"           "
            ]
          },
          "metadata": {}
        }
      ],
      "source": [
        "system(\"gdown --id 1GIaHWMhNmtB6AzJL77DmtO_qY2yVTQtS\")\n",
        "system(\"ls\", TRUE)"
      ]
    },
    {
      "cell_type": "code",
      "source": [
        "data <- read.csv(\"healthcare_dataset.csv\")"
      ],
      "metadata": {
        "id": "roajUdWGQ20L"
      },
      "execution_count": 2,
      "outputs": []
    },
    {
      "cell_type": "code",
      "source": [
        "str(data)"
      ],
      "metadata": {
        "colab": {
          "base_uri": "https://localhost:8080/"
        },
        "id": "zQQCURLuQ3fP",
        "outputId": "7087e0c0-2535-4cca-e22e-085b2b14b11d"
      },
      "execution_count": 3,
      "outputs": [
        {
          "output_type": "stream",
          "name": "stdout",
          "text": [
            "'data.frame':\t10000 obs. of  15 variables:\n",
            " $ Name              : chr  \"Tiffany Ramirez\" \"Ruben Burns\" \"Chad Byrd\" \"Antonio Frederick\" ...\n",
            " $ Age               : int  81 35 61 49 51 41 82 55 33 39 ...\n",
            " $ Gender            : chr  \"Female\" \"Male\" \"Male\" \"Male\" ...\n",
            " $ Blood.Type        : chr  \"O-\" \"O+\" \"B-\" \"B-\" ...\n",
            " $ Medical.Condition : chr  \"Diabetes\" \"Asthma\" \"Obesity\" \"Asthma\" ...\n",
            " $ Date.of.Admission : chr  \"2022-11-17\" \"2023-06-01\" \"2019-01-09\" \"2020-05-02\" ...\n",
            " $ Doctor            : chr  \"Patrick Parker\" \"Diane Jackson\" \"Paul Baker\" \"Brian Chandler\" ...\n",
            " $ Hospital          : chr  \"Wallace-Hamilton\" \"Burke, Griffin and Cooper\" \"Walton LLC\" \"Garcia Ltd\" ...\n",
            " $ Insurance.Provider: chr  \"Medicare\" \"UnitedHealthcare\" \"Medicare\" \"Medicare\" ...\n",
            " $ Billing.Amount    : num  37491 47304 36875 23303 18086 ...\n",
            " $ Room.Number       : int  146 404 292 480 477 180 161 384 215 310 ...\n",
            " $ Admission.Type    : chr  \"Elective\" \"Emergency\" \"Emergency\" \"Urgent\" ...\n",
            " $ Discharge.Date    : chr  \"2022-12-01\" \"2023-06-15\" \"2019-02-08\" \"2020-05-03\" ...\n",
            " $ Medication        : chr  \"Aspirin\" \"Lipitor\" \"Lipitor\" \"Penicillin\" ...\n",
            " $ Test.Results      : chr  \"Inconclusive\" \"Normal\" \"Normal\" \"Abnormal\" ...\n"
          ]
        }
      ]
    },
    {
      "cell_type": "code",
      "source": [
        "install.packages(\"tidyverse\")\n",
        "library(tidyverse)\n",
        "library(data.table)"
      ],
      "metadata": {
        "colab": {
          "base_uri": "https://localhost:8080/"
        },
        "id": "szD148e3Q8TO",
        "outputId": "d06b9182-9ec6-475c-efc1-c806d856f084"
      },
      "execution_count": 4,
      "outputs": [
        {
          "output_type": "stream",
          "name": "stderr",
          "text": [
            "Installing package into ‘/usr/local/lib/R/site-library’\n",
            "(as ‘lib’ is unspecified)\n",
            "\n",
            "── \u001b[1mAttaching core tidyverse packages\u001b[22m ──────────────────────── tidyverse 2.0.0 ──\n",
            "\u001b[32m✔\u001b[39m \u001b[34mdplyr    \u001b[39m 1.1.4     \u001b[32m✔\u001b[39m \u001b[34mreadr    \u001b[39m 2.1.4\n",
            "\u001b[32m✔\u001b[39m \u001b[34mforcats  \u001b[39m 1.0.0     \u001b[32m✔\u001b[39m \u001b[34mstringr  \u001b[39m 1.5.1\n",
            "\u001b[32m✔\u001b[39m \u001b[34mggplot2  \u001b[39m 3.4.4     \u001b[32m✔\u001b[39m \u001b[34mtibble   \u001b[39m 3.2.1\n",
            "\u001b[32m✔\u001b[39m \u001b[34mlubridate\u001b[39m 1.9.3     \u001b[32m✔\u001b[39m \u001b[34mtidyr    \u001b[39m 1.3.0\n",
            "\u001b[32m✔\u001b[39m \u001b[34mpurrr    \u001b[39m 1.0.2     \n",
            "── \u001b[1mConflicts\u001b[22m ────────────────────────────────────────── tidyverse_conflicts() ──\n",
            "\u001b[31m✖\u001b[39m \u001b[34mdplyr\u001b[39m::\u001b[32mfilter()\u001b[39m masks \u001b[34mstats\u001b[39m::filter()\n",
            "\u001b[31m✖\u001b[39m \u001b[34mdplyr\u001b[39m::\u001b[32mlag()\u001b[39m    masks \u001b[34mstats\u001b[39m::lag()\n",
            "\u001b[36mℹ\u001b[39m Use the conflicted package (\u001b[3m\u001b[34m<http://conflicted.r-lib.org/>\u001b[39m\u001b[23m) to force all conflicts to become errors\n",
            "\n",
            "Attaching package: ‘data.table’\n",
            "\n",
            "\n",
            "The following objects are masked from ‘package:lubridate’:\n",
            "\n",
            "    hour, isoweek, mday, minute, month, quarter, second, wday, week,\n",
            "    yday, year\n",
            "\n",
            "\n",
            "The following objects are masked from ‘package:dplyr’:\n",
            "\n",
            "    between, first, last\n",
            "\n",
            "\n",
            "The following object is masked from ‘package:purrr’:\n",
            "\n",
            "    transpose\n",
            "\n",
            "\n"
          ]
        }
      ]
    },
    {
      "cell_type": "code",
      "source": [
        "library(repr)"
      ],
      "metadata": {
        "id": "tG-1dZu_Q9xo"
      },
      "execution_count": 5,
      "outputs": []
    },
    {
      "cell_type": "code",
      "source": [
        "df <- fread(\"healthcare_dataset.csv\") %>% as_tibble()"
      ],
      "metadata": {
        "id": "ikVcAHBdQ-nv"
      },
      "execution_count": 6,
      "outputs": []
    },
    {
      "cell_type": "code",
      "source": [
        "summary(df)"
      ],
      "metadata": {
        "colab": {
          "base_uri": "https://localhost:8080/",
          "height": 531
        },
        "id": "2yKjsla1Q_QN",
        "outputId": "1f1720f2-24cb-430f-dacc-82107e659303"
      },
      "execution_count": 7,
      "outputs": [
        {
          "output_type": "display_data",
          "data": {
            "text/plain": [
              "     Name                Age           Gender           Blood Type       \n",
              " Length:10000       Min.   :18.00   Length:10000       Length:10000      \n",
              " Class :character   1st Qu.:35.00   Class :character   Class :character  \n",
              " Mode  :character   Median :52.00   Mode  :character   Mode  :character  \n",
              "                    Mean   :51.45                                        \n",
              "                    3rd Qu.:68.00                                        \n",
              "                    Max.   :85.00                                        \n",
              " Medical Condition  Date of Admission       Doctor            Hospital        \n",
              " Length:10000       Min.   :2018-10-30   Length:10000       Length:10000      \n",
              " Class :character   1st Qu.:2020-02-10   Class :character   Class :character  \n",
              " Mode  :character   Median :2021-05-02   Mode  :character   Mode  :character  \n",
              "                    Mean   :2021-05-01                                        \n",
              "                    3rd Qu.:2022-07-23                                        \n",
              "                    Max.   :2023-10-30                                        \n",
              " Insurance Provider Billing Amount   Room Number    Admission Type    \n",
              " Length:10000       Min.   : 1000   Min.   :101.0   Length:10000      \n",
              " Class :character   1st Qu.:13507   1st Qu.:199.0   Class :character  \n",
              " Mode  :character   Median :25258   Median :299.0   Mode  :character  \n",
              "                    Mean   :25517   Mean   :300.1                     \n",
              "                    3rd Qu.:37734   3rd Qu.:400.0                     \n",
              "                    Max.   :49996   Max.   :500.0                     \n",
              " Discharge Date        Medication        Test Results      \n",
              " Min.   :2018-11-01   Length:10000       Length:10000      \n",
              " 1st Qu.:2020-02-23   Class :character   Class :character  \n",
              " Median :2021-05-18   Mode  :character   Mode  :character  \n",
              " Mean   :2021-05-17                                        \n",
              " 3rd Qu.:2022-08-07                                        \n",
              " Max.   :2023-11-27                                        "
            ]
          },
          "metadata": {}
        }
      ]
    },
    {
      "cell_type": "markdown",
      "source": [
        "결측치가 있는 지 확인하고 처리하는 과정을 수행한다."
      ],
      "metadata": {
        "id": "3-OffPbOWfXJ"
      }
    },
    {
      "cell_type": "code",
      "source": [
        "#결측치가 있는 행을 제거한다.\n",
        "data <- na.omit(data)"
      ],
      "metadata": {
        "id": "B-tT1KWpWa6g"
      },
      "execution_count": 8,
      "outputs": []
    },
    {
      "cell_type": "markdown",
      "source": [
        "환자의 의학적 상태에 대한 이상치가 있는지 탐색하고 제거하는 과정을 수행하려고 하였지만 해당 데이터들은 범주형 데이터들이므로, 이상치 대신 유효하지 않은 범주를 검사하였다."
      ],
      "metadata": {
        "id": "AfiSdq8UWkYA"
      }
    },
    {
      "cell_type": "code",
      "source": [
        "# 의학적 상태, 성별, 혈액형은 범주형 데이터이므로, 이상치 대신 유효하지 않은 범주를 검사합니다.\n",
        "df$Medical.Condition <- as.factor(df$`Medical Condition`)\n",
        "df$Gender <- as.factor(df$Gender)\n",
        "df$Blood.Type <- as.factor(df$`Blood Type`)\n",
        "\n",
        "# 유효하지 않은 범주가 있는지 확인합니다.\n",
        "summary(df$Medical.Condition)\n",
        "summary(df$Gender)\n",
        "summary(df$Blood.Type)\n"
      ],
      "metadata": {
        "colab": {
          "base_uri": "https://localhost:8080/",
          "height": 69
        },
        "id": "AaqumCyWWjbE",
        "outputId": "8766034f-4fd9-4af7-b9ad-5d4e646759d3"
      },
      "execution_count": 9,
      "outputs": [
        {
          "output_type": "display_data",
          "data": {
            "text/html": [
              "<style>\n",
              ".dl-inline {width: auto; margin:0; padding: 0}\n",
              ".dl-inline>dt, .dl-inline>dd {float: none; width: auto; display: inline-block}\n",
              ".dl-inline>dt::after {content: \":\\0020\"; padding-right: .5ex}\n",
              ".dl-inline>dt:not(:first-of-type) {padding-left: .5ex}\n",
              "</style><dl class=dl-inline><dt>Arthritis</dt><dd>1650</dd><dt>Asthma</dt><dd>1708</dd><dt>Cancer</dt><dd>1703</dd><dt>Diabetes</dt><dd>1623</dd><dt>Hypertension</dt><dd>1688</dd><dt>Obesity</dt><dd>1628</dd></dl>\n"
            ],
            "text/markdown": "Arthritis\n:   1650Asthma\n:   1708Cancer\n:   1703Diabetes\n:   1623Hypertension\n:   1688Obesity\n:   1628\n\n",
            "text/latex": "\\begin{description*}\n\\item[Arthritis] 1650\n\\item[Asthma] 1708\n\\item[Cancer] 1703\n\\item[Diabetes] 1623\n\\item[Hypertension] 1688\n\\item[Obesity] 1628\n\\end{description*}\n",
            "text/plain": [
              "   Arthritis       Asthma       Cancer     Diabetes Hypertension      Obesity \n",
              "        1650         1708         1703         1623         1688         1628 "
            ]
          },
          "metadata": {}
        },
        {
          "output_type": "display_data",
          "data": {
            "text/html": [
              "<style>\n",
              ".dl-inline {width: auto; margin:0; padding: 0}\n",
              ".dl-inline>dt, .dl-inline>dd {float: none; width: auto; display: inline-block}\n",
              ".dl-inline>dt::after {content: \":\\0020\"; padding-right: .5ex}\n",
              ".dl-inline>dt:not(:first-of-type) {padding-left: .5ex}\n",
              "</style><dl class=dl-inline><dt>Female</dt><dd>5075</dd><dt>Male</dt><dd>4925</dd></dl>\n"
            ],
            "text/markdown": "Female\n:   5075Male\n:   4925\n\n",
            "text/latex": "\\begin{description*}\n\\item[Female] 5075\n\\item[Male] 4925\n\\end{description*}\n",
            "text/plain": [
              "Female   Male \n",
              "  5075   4925 "
            ]
          },
          "metadata": {}
        },
        {
          "output_type": "display_data",
          "data": {
            "text/html": [
              "<style>\n",
              ".dl-inline {width: auto; margin:0; padding: 0}\n",
              ".dl-inline>dt, .dl-inline>dd {float: none; width: auto; display: inline-block}\n",
              ".dl-inline>dt::after {content: \":\\0020\"; padding-right: .5ex}\n",
              ".dl-inline>dt:not(:first-of-type) {padding-left: .5ex}\n",
              "</style><dl class=dl-inline><dt>A-</dt><dd>1238</dd><dt>A+</dt><dd>1241</dd><dt>AB-</dt><dd>1275</dd><dt>AB+</dt><dd>1258</dd><dt>B-</dt><dd>1252</dd><dt>B+</dt><dd>1244</dd><dt>O-</dt><dd>1244</dd><dt>O+</dt><dd>1248</dd></dl>\n"
            ],
            "text/markdown": "A-\n:   1238A+\n:   1241AB-\n:   1275AB+\n:   1258B-\n:   1252B+\n:   1244O-\n:   1244O+\n:   1248\n\n",
            "text/latex": "\\begin{description*}\n\\item[A-] 1238\n\\item[A+] 1241\n\\item[AB-] 1275\n\\item[AB+] 1258\n\\item[B-] 1252\n\\item[B+] 1244\n\\item[O-] 1244\n\\item[O+] 1248\n\\end{description*}\n",
            "text/plain": [
              "  A-   A+  AB-  AB+   B-   B+   O-   O+ \n",
              "1238 1241 1275 1258 1252 1244 1244 1248 "
            ]
          },
          "metadata": {}
        }
      ]
    },
    {
      "cell_type": "code",
      "source": [
        "# 'ggplot2' 패키지를 설치하고 라이브러리를 불러옵니다.\n",
        "if (!require(ggplot2)) install.packages(\"ggplot2\")\n",
        "library(ggplot2)\n",
        "\n",
        "# 의학적 상태에 따른 환자 수를 시각화합니다.\n",
        "ggplot(df, aes(x = Medical.Condition)) +\n",
        "  geom_bar() +\n",
        "  theme(axis.text.x = element_text(angle = 90, hjust = 1)) +\n",
        "  labs(title = \"Number of Patients by Medical Condition\", x = \"Medical Condition\", y = \"Count\")\n",
        "\n",
        "# 성별 분포를 시각화합니다.\n",
        "ggplot(df, aes(x = Gender)) +\n",
        "  geom_bar(fill = \"blue\") +\n",
        "  labs(title = \"Gender Distribution\", x = \"Gender\", y = \"Count\")\n",
        "\n",
        "# 혈액형 분포를 시각화합니다.\n",
        "ggplot(df, aes(x = Blood.Type)) +\n",
        "  geom_bar(fill = \"red\") +\n",
        "  labs(title = \"Blood Type Distribution\", x = \"Blood Type\", y = \"Count\")\n"
      ],
      "metadata": {
        "colab": {
          "base_uri": "https://localhost:8080/",
          "height": 1000
        },
        "id": "FpeBgzeaXqgo",
        "outputId": "7601ce35-b3b8-4b5f-a23d-dbd43b62a9b0"
      },
      "execution_count": 10,
      "outputs": [
        {
          "output_type": "display_data",
          "data": {
            "text/plain": [
              "plot without title"
            ],
            "image/png": "[encoded data removed]"
          },
          "metadata": {
            "image/png": {
              "width": 420,
              "height": 420
            }
          }
        },
        {
          "output_type": "display_data",
          "data": {
            "text/plain": [
              "plot without title"
            ],
            "image/png": "[encoded data removed]"
          },
          "metadata": {
            "image/png": {
              "width": 420,
              "height": 420
            }
          }
        },
        {
          "output_type": "display_data",
          "data": {
            "text/plain": [
              "plot without title"
            ],
            "image/png": "[encoded data removed]"
          },
          "metadata": {
            "image/png": {
              "width": 420,
              "height": 420
            }
          }
        }
      ]
    },
    {
      "cell_type": "markdown",
      "source": [],
      "metadata": {
        "id": "N99US0RGzi5y"
      }
    },
    {
      "cell_type": "code",
      "source": [
        "# 의학적 상태별 환자 비율 계산\n",
        "medical_condition_proportions <- df %>%\n",
        "  group_by(Medical.Condition) %>%\n",
        "  summarise(Count = n()) %>%\n",
        "  mutate(Proportion = Count / sum(Count)) %>%\n",
        "  arrange(desc(Proportion))\n",
        "\n",
        "# 비율로 정렬된 바 차트 시각화\n",
        "ggplot(medical_condition_proportions, aes(x = reorder(Medical.Condition, Proportion), y = Proportion)) +\n",
        "  geom_bar(stat = \"identity\", fill = \"steelblue\") +\n",
        "  labs(title = \"Proportion of Patients by Medical Condition\", x = \"Medical Condition\", y = \"Proportion\") +\n",
        "  theme_minimal()\n"
      ],
      "metadata": {
        "colab": {
          "base_uri": "https://localhost:8080/",
          "height": 437
        },
        "id": "0Px9x83XYexs",
        "outputId": "1f52035d-923b-43ea-86f9-bb4ba3f88780"
      },
      "execution_count": 11,
      "outputs": [
        {
          "output_type": "display_data",
          "data": {
            "text/plain": [
              "plot without title"
            ],
            "image/png": "[encoded data removed]"
          },
          "metadata": {
            "image/png": {
              "width": 420,
              "height": 420
            }
          }
        }
      ]
    },
    {
      "cell_type": "code",
      "source": [
        "# 성별 분포 비율 계산\n",
        "gender_proportions <- df %>%\n",
        "  group_by(Gender) %>%\n",
        "  summarise(Count = n()) %>%\n",
        "  mutate(Proportion = Count / sum(Count)) %>%\n",
        "  arrange(desc(Proportion))\n",
        "\n",
        "# 성별 분포 비율로 시각화\n",
        "ggplot(gender_proportions, aes(x = reorder(Gender, Proportion), y = Proportion, fill = Gender)) +\n",
        "  geom_bar(stat = \"identity\") +\n",
        "  scale_fill_manual(values = c(\"Female\" = \"blue\", \"Male\" = \"darkblue\")) +\n",
        "  labs(title = \"Proportion of Gender Distribution\", x = \"Gender\", y = \"Proportion\") +\n",
        "  theme_minimal()"
      ],
      "metadata": {
        "colab": {
          "base_uri": "https://localhost:8080/",
          "height": 437
        },
        "id": "9shSRPEfZtQQ",
        "outputId": "d8402600-8c47-4a16-955a-781640e90408"
      },
      "execution_count": 12,
      "outputs": [
        {
          "output_type": "display_data",
          "data": {
            "text/plain": [
              "plot without title"
            ],
            "image/png": "[encoded data removed]"
          },
          "metadata": {
            "image/png": {
              "width": 420,
              "height": 420
            }
          }
        }
      ]
    },
    {
      "cell_type": "code",
      "source": [
        "# 혈액형 분포 비율 계산\n",
        "blood_type_proportions <- df %>%\n",
        "  group_by(Blood.Type) %>%\n",
        "  summarise(Count = n()) %>%\n",
        "  mutate(Proportion = Count / sum(Count)) %>%\n",
        "  arrange(desc(Proportion))\n",
        "\n",
        "# 혈액형 분포 비율로 시각화\n",
        "ggplot(blood_type_proportions, aes(x = reorder(Blood.Type, Proportion), y = Proportion, fill = Blood.Type)) +\n",
        "  geom_bar(stat = \"identity\") +\n",
        "  scale_fill_brewer(palette = \"Reds\") +\n",
        "  labs(title = \"Proportion of Blood Type Distribution\", x = \"Blood Type\", y = \"Proportion\") +\n",
        "  theme_minimal()"
      ],
      "metadata": {
        "colab": {
          "base_uri": "https://localhost:8080/",
          "height": 437
        },
        "id": "NkPhBdX1oomI",
        "outputId": "4f564eb7-880b-43eb-a315-360af4aca63b"
      },
      "execution_count": 13,
      "outputs": [
        {
          "output_type": "display_data",
          "data": {
            "text/plain": [
              "plot without title"
            ],
            "image/png": "[encoded data removed]"
          },
          "metadata": {
            "image/png": {
              "width": 420,
              "height": 420
            }
          }
        }
      ]
    },
    {
      "cell_type": "markdown",
      "source": [
        "# 분류모델\n",
        "\n",
        "### 귀무가설:  환자의 의학적 상태, 성별, 혈액형은 입원 유형을 예측하는 데 중요한 요소가 아니다.<br/>\n",
        "\n",
        "### 대립가설: 환자의 의학적 상태, 성별, 혈액형은 입원 유형을 예측하는 데 중요한 요소이다.<br/>"
      ],
      "metadata": {
        "id": "loysYlvNSZMt"
      }
    },
    {
      "cell_type": "code",
      "source": [
        "# 분류 모델을 구현하는 데 필요한 패키지를 설치\n",
        "install.packages(\"caret\")\n",
        "install.packages(\"randomForest\")\n",
        "library(caret)\n",
        "library(randomForest)"
      ],
      "metadata": {
        "colab": {
          "base_uri": "https://localhost:8080/"
        },
        "id": "GI_Js3rN0wrt",
        "outputId": "8aea1f05-4bd1-4fec-a746-5567dee992d6"
      },
      "execution_count": 14,
      "outputs": [
        {
          "output_type": "stream",
          "name": "stderr",
          "text": [
            "Installing package into ‘/usr/local/lib/R/site-library’\n",
            "(as ‘lib’ is unspecified)\n",
            "\n",
            "also installing the dependencies ‘listenv’, ‘parallelly’, ‘future’, ‘globals’, ‘shape’, ‘future.apply’, ‘numDeriv’, ‘progressr’, ‘SQUAREM’, ‘diagram’, ‘lava’, ‘prodlim’, ‘proxy’, ‘iterators’, ‘Rcpp’, ‘clock’, ‘gower’, ‘hardhat’, ‘ipred’, ‘timeDate’, ‘e1071’, ‘foreach’, ‘ModelMetrics’, ‘plyr’, ‘pROC’, ‘recipes’, ‘reshape2’\n",
            "\n",
            "\n",
            "Installing package into ‘/usr/local/lib/R/site-library’\n",
            "(as ‘lib’ is unspecified)\n",
            "\n",
            "Loading required package: lattice\n",
            "\n",
            "\n",
            "Attaching package: ‘caret’\n",
            "\n",
            "\n",
            "The following object is masked from ‘package:purrr’:\n",
            "\n",
            "    lift\n",
            "\n",
            "\n",
            "randomForest 4.7-1.1\n",
            "\n",
            "Type rfNews() to see new features/changes/bug fixes.\n",
            "\n",
            "\n",
            "Attaching package: ‘randomForest’\n",
            "\n",
            "\n",
            "The following object is masked from ‘package:dplyr’:\n",
            "\n",
            "    combine\n",
            "\n",
            "\n",
            "The following object is masked from ‘package:ggplot2’:\n",
            "\n",
            "    margin\n",
            "\n",
            "\n"
          ]
        }
      ]
    },
    {
      "cell_type": "code",
      "source": [
        "# 데이터 불러오기\n",
        "df <- read.csv(\"healthcare_dataset.csv\")\n",
        "\n",
        "# 팩터 변수로 변환\n",
        "df$Gender <- as.factor(df$Gender)\n",
        "df$Blood.Type <- as.factor(df$Blood.Type)\n",
        "df$Medical.Condition <- as.factor(df$Medical.Condition)\n",
        "df$Admission.Type <- as.factor(df$Admission.Type) # 이는 예측하려는 타겟 변수\n",
        "\n",
        "# 데이터를 훈련 세트와 테스트 세트로 분할\n",
        "set.seed(42)\n",
        "splitIndex <- createDataPartition(df$Admission.Type, p = 0.7, list = FALSE)\n",
        "train_data <- df[splitIndex, ]\n",
        "test_data <- df[-splitIndex, ]\n",
        "\n",
        "# 모델을 학습하고 예측을 수행\n",
        "# 로지스틱 회귀 모델\n",
        "set.seed(42)\n",
        "print(\"=========== Logistic Regression Model ===========\")\n",
        "logit_model <- train(Admission.Type ~ Medical.Condition + Blood.Type + Gender,\n",
        "                     data = train_data, method = \"multinom\", trControl = trainControl(method = \"cv\", number = 10), metric=\"Accuracy\")\n",
        "\n",
        "# 의사결정트리 모델\n",
        "set.seed(42)\n",
        "print(\"=========== Decision Tree Model ===========\")\n",
        "tree_model <- train(Admission.Type ~ Medical.Condition + Blood.Type + Gender,\n",
        "                    data = train_data, method = \"rpart\", trControl = trainControl(method = \"cv\", number = 10), metric=\"Accuracy\")\n",
        "\n",
        "# 랜덤 포레스트 모델\n",
        "set.seed(42)\n",
        "print(\"=========== Random Forest Model ===========\")\n",
        "rf_model <- train(Admission.Type ~ Medical.Condition + Blood.Type + Gender,\n",
        "                  data = train_data, method = \"rf\", trControl = trainControl(method = \"cv\", number = 10), metric=\"Accuracy\")\n",
        "# 각 모델의 성능 평가\n",
        "logit_results <- predict(logit_model, newdata = test_data)\n",
        "tree_results <- predict(tree_model, newdata = test_data)\n",
        "rf_results <- predict(rf_model, newdata = test_data)\n",
        "\n",
        "# 정확도 계산\n",
        "logit_accuracy <- postResample(logit_results, test_data$Admission.Type)\n",
        "tree_accuracy <- postResample(tree_results, test_data$Admission.Type)\n",
        "rf_accuracy <- postResample(rf_results, test_data$Admission.Type)\n",
        "\n",
        "# 결과 출력\n",
        "print(logit_accuracy)\n",
        "print(tree_accuracy)\n",
        "print(rf_accuracy)\n"
      ],
      "metadata": {
        "colab": {
          "base_uri": "https://localhost:8080/"
        },
        "id": "XwATm5DlSg7-",
        "outputId": "54755d1a-177c-4cb7-f24d-ff8af14bc0df"
      },
      "execution_count": 19,
      "outputs": [
        {
          "output_type": "stream",
          "name": "stdout",
          "text": [
            "[1] \"=========== Logistic Regression Model ===========\"\n",
            "# weights:  45 (28 variable)\n",
            "initial  value 6922.356031 \n",
            "iter  10 value 6909.160272\n",
            "iter  20 value 6907.308400\n",
            "iter  30 value 6907.054528\n",
            "final  value 6907.027366 \n",
            "converged\n",
            "# weights:  45 (28 variable)\n",
            "initial  value 6922.356031 \n",
            "iter  10 value 6909.205461\n",
            "iter  20 value 6907.363964\n",
            "iter  30 value 6907.111615\n",
            "final  value 6907.083275 \n",
            "converged\n",
            "# weights:  45 (28 variable)\n",
            "initial  value 6922.356031 \n",
            "iter  10 value 6909.160317\n",
            "iter  20 value 6907.308456\n",
            "iter  30 value 6907.054585\n",
            "final  value 6907.027422 \n",
            "converged\n",
            "# weights:  45 (28 variable)\n",
            "initial  value 6922.356031 \n",
            "iter  10 value 6907.398283\n",
            "iter  20 value 6903.212535\n",
            "iter  30 value 6902.606769\n",
            "final  value 6902.535909 \n",
            "converged\n",
            "# weights:  45 (28 variable)\n",
            "initial  value 6922.356031 \n",
            "iter  10 value 6907.476429\n",
            "iter  20 value 6903.288719\n",
            "iter  30 value 6902.717124\n",
            "final  value 6902.631447 \n",
            "converged\n",
            "# weights:  45 (28 variable)\n",
            "initial  value 6922.356031 \n",
            "iter  10 value 6907.398361\n",
            "iter  20 value 6903.212612\n",
            "iter  30 value 6902.606858\n",
            "final  value 6902.536006 \n",
            "converged\n",
            "# weights:  45 (28 variable)\n",
            "initial  value 6921.257419 \n",
            "iter  10 value 6905.994932\n",
            "iter  20 value 6904.391021\n",
            "iter  30 value 6904.017734\n",
            "final  value 6904.014816 \n",
            "converged\n",
            "# weights:  45 (28 variable)\n",
            "initial  value 6921.257419 \n",
            "iter  10 value 6906.048096\n",
            "iter  20 value 6904.457682\n",
            "iter  30 value 6904.079493\n",
            "final  value 6904.076805 \n",
            "converged\n",
            "# weights:  45 (28 variable)\n",
            "initial  value 6921.257419 \n",
            "iter  10 value 6905.994986\n",
            "iter  20 value 6904.391088\n",
            "iter  30 value 6904.017797\n",
            "final  value 6904.014879 \n",
            "converged\n",
            "# weights:  45 (28 variable)\n",
            "initial  value 6922.356031 \n",
            "iter  10 value 6905.065195\n",
            "iter  20 value 6903.718453\n",
            "iter  30 value 6903.451255\n",
            "final  value 6903.443750 \n",
            "converged\n",
            "# weights:  45 (28 variable)\n",
            "initial  value 6922.356031 \n",
            "iter  10 value 6905.107402\n",
            "iter  20 value 6903.860417\n",
            "iter  30 value 6903.527953\n",
            "iter  40 value 6903.505789\n",
            "iter  50 value 6903.499790\n",
            "final  value 6903.498071 \n",
            "converged\n",
            "# weights:  45 (28 variable)\n",
            "initial  value 6922.356031 \n",
            "iter  10 value 6905.065238\n",
            "iter  20 value 6903.718497\n",
            "iter  30 value 6903.451311\n",
            "final  value 6903.443805 \n",
            "converged\n",
            "# weights:  45 (28 variable)\n",
            "initial  value 6921.257419 \n",
            "iter  10 value 6905.394759\n",
            "iter  20 value 6902.697648\n",
            "iter  30 value 6902.514084\n",
            "iter  30 value 6902.514067\n",
            "final  value 6902.513337 \n",
            "converged\n",
            "# weights:  45 (28 variable)\n",
            "initial  value 6921.257419 \n",
            "iter  10 value 6905.443673\n",
            "iter  20 value 6902.747843\n",
            "iter  30 value 6902.572950\n",
            "iter  30 value 6902.572927\n",
            "final  value 6902.572020 \n",
            "converged\n",
            "# weights:  45 (28 variable)\n",
            "initial  value 6921.257419 \n",
            "iter  10 value 6905.394808\n",
            "iter  20 value 6902.697698\n",
            "iter  30 value 6902.514130\n",
            "iter  30 value 6902.514113\n",
            "final  value 6902.513396 \n",
            "converged\n",
            "# weights:  45 (28 variable)\n",
            "initial  value 6922.356031 \n",
            "iter  10 value 6905.373179\n",
            "iter  20 value 6904.389101\n",
            "iter  30 value 6903.980596\n",
            "final  value 6903.978243 \n",
            "converged\n",
            "# weights:  45 (28 variable)\n",
            "initial  value 6922.356031 \n",
            "iter  10 value 6905.421694\n",
            "iter  20 value 6904.455086\n",
            "iter  30 value 6904.039136\n",
            "final  value 6904.038102 \n",
            "converged\n",
            "# weights:  45 (28 variable)\n",
            "initial  value 6922.356031 \n",
            "iter  10 value 6905.373228\n",
            "iter  20 value 6904.389168\n",
            "iter  30 value 6903.980656\n",
            "final  value 6903.978304 \n",
            "converged\n",
            "# weights:  45 (28 variable)\n",
            "initial  value 6922.356031 \n",
            "iter  10 value 6904.613386\n",
            "iter  20 value 6901.455190\n",
            "iter  30 value 6901.105208\n",
            "final  value 6901.093387 \n",
            "converged\n",
            "# weights:  45 (28 variable)\n",
            "initial  value 6922.356031 \n",
            "iter  10 value 6904.654814\n",
            "iter  20 value 6901.503583\n",
            "iter  30 value 6901.151292\n",
            "final  value 6901.140622 \n",
            "converged\n",
            "# weights:  45 (28 variable)\n",
            "initial  value 6922.356031 \n",
            "iter  10 value 6904.613427\n",
            "iter  20 value 6901.455238\n",
            "iter  30 value 6901.105254\n",
            "final  value 6901.093435 \n",
            "converged\n",
            "# weights:  45 (28 variable)\n",
            "initial  value 6922.356031 \n",
            "iter  10 value 6906.328547\n",
            "iter  20 value 6905.076320\n",
            "iter  30 value 6904.888580\n",
            "final  value 6904.879663 \n",
            "converged\n",
            "# weights:  45 (28 variable)\n",
            "initial  value 6922.356031 \n",
            "iter  10 value 6906.363640\n",
            "iter  20 value 6905.106895\n",
            "iter  30 value 6904.930603\n",
            "final  value 6904.921044 \n",
            "converged\n",
            "# weights:  45 (28 variable)\n",
            "initial  value 6922.356031 \n",
            "iter  10 value 6906.328582\n",
            "iter  20 value 6905.076350\n",
            "iter  30 value 6904.888619\n",
            "final  value 6904.879705 \n",
            "converged\n",
            "# weights:  45 (28 variable)\n",
            "initial  value 6923.454643 \n",
            "iter  10 value 6905.905950\n",
            "iter  20 value 6904.485941\n",
            "iter  30 value 6904.272906\n",
            "final  value 6904.271396 \n",
            "converged\n",
            "# weights:  45 (28 variable)\n",
            "initial  value 6923.454643 \n",
            "iter  10 value 6905.941469\n",
            "iter  20 value 6904.522619\n",
            "iter  30 value 6904.314261\n",
            "final  value 6904.312579 \n",
            "converged\n",
            "# weights:  45 (28 variable)\n",
            "initial  value 6923.454643 \n",
            "iter  10 value 6905.905986\n",
            "iter  20 value 6904.485978\n",
            "iter  30 value 6904.272947\n",
            "final  value 6904.271437 \n",
            "converged\n",
            "# weights:  45 (28 variable)\n",
            "initial  value 6922.356031 \n",
            "iter  10 value 6911.429907\n",
            "iter  20 value 6906.627259\n",
            "iter  30 value 6906.353572\n",
            "final  value 6906.340099 \n",
            "converged\n",
            "# weights:  45 (28 variable)\n",
            "initial  value 6922.356031 \n",
            "iter  10 value 6911.464369\n",
            "iter  20 value 6906.673028\n",
            "iter  30 value 6906.391121\n",
            "final  value 6906.379130 \n",
            "converged\n",
            "# weights:  45 (28 variable)\n",
            "initial  value 6922.356031 \n",
            "iter  10 value 6911.429942\n",
            "iter  20 value 6906.627305\n",
            "iter  30 value 6906.353610\n",
            "final  value 6906.340139 \n",
            "converged\n",
            "# weights:  45 (28 variable)\n",
            "initial  value 7691.384633 \n",
            "iter  10 value 7674.604242\n",
            "iter  20 value 7673.046412\n",
            "iter  30 value 7672.703951\n",
            "final  value 7672.702058 \n",
            "converged\n",
            "[1] \"=========== Decision Tree Model ===========\"\n",
            "[1] \"=========== Random Forest Model ===========\"\n",
            "   Accuracy       Kappa \n",
            " 0.32844281 -0.01005965 \n",
            "Accuracy    Kappa \n",
            "0.339113 0.000000 \n",
            "   Accuracy       Kappa \n",
            " 0.32610870 -0.01588054 \n"
          ]
        }
      ]
    },
    {
      "cell_type": "code",
      "source": [
        "confusionMatrix(logit_results, test_data$Admission.Type)"
      ],
      "metadata": {
        "colab": {
          "base_uri": "https://localhost:8080/",
          "height": 568
        },
        "id": "VSgJnjqUzvhH",
        "outputId": "c3d6f1e4-0972-42bb-a217-cb24bcf3a1b7"
      },
      "execution_count": 22,
      "outputs": [
        {
          "output_type": "display_data",
          "data": {
            "text/plain": [
              "Confusion Matrix and Statistics\n",
              "\n",
              "           Reference\n",
              "Prediction  Elective Emergency Urgent\n",
              "  Elective       200       222    213\n",
              "  Emergency      335       340    359\n",
              "  Urgent         437       448    445\n",
              "\n",
              "Overall Statistics\n",
              "                                          \n",
              "               Accuracy : 0.3284          \n",
              "                 95% CI : (0.3116, 0.3456)\n",
              "    No Information Rate : 0.3391          \n",
              "    P-Value [Acc > NIR] : 0.8952          \n",
              "                                          \n",
              "                  Kappa : -0.0101         \n",
              "                                          \n",
              " Mcnemar's Test P-Value : <2e-16          \n",
              "\n",
              "Statistics by Class:\n",
              "\n",
              "                     Class: Elective Class: Emergency Class: Urgent\n",
              "Sensitivity                  0.20576           0.3366        0.4376\n",
              "Specificity                  0.78540           0.6511        0.5535\n",
              "Pos Pred Value               0.31496           0.3288        0.3346\n",
              "Neg Pred Value               0.67343           0.6590        0.6573\n",
              "Prevalence                   0.32411           0.3368        0.3391\n",
              "Detection Rate               0.06669           0.1134        0.1484\n",
              "Detection Prevalence         0.21174           0.3448        0.4435\n",
              "Balanced Accuracy            0.49558           0.4939        0.4955"
            ]
          },
          "metadata": {}
        }
      ]
    },
    {
      "cell_type": "code",
      "source": [
        "confusionMatrix(tree_results, test_data$Admission.Type)"
      ],
      "metadata": {
        "colab": {
          "base_uri": "https://localhost:8080/",
          "height": 568
        },
        "id": "CAuf7MS7s3AN",
        "outputId": "8bcd248d-d5ec-4734-f7c9-fa93e60e23a1"
      },
      "execution_count": 23,
      "outputs": [
        {
          "output_type": "display_data",
          "data": {
            "text/plain": [
              "Confusion Matrix and Statistics\n",
              "\n",
              "           Reference\n",
              "Prediction  Elective Emergency Urgent\n",
              "  Elective         0         0      0\n",
              "  Emergency        0         0      0\n",
              "  Urgent         972      1010   1017\n",
              "\n",
              "Overall Statistics\n",
              "                                          \n",
              "               Accuracy : 0.3391          \n",
              "                 95% CI : (0.3222, 0.3564)\n",
              "    No Information Rate : 0.3391          \n",
              "    P-Value [Acc > NIR] : 0.5069          \n",
              "                                          \n",
              "                  Kappa : 0               \n",
              "                                          \n",
              " Mcnemar's Test P-Value : NA              \n",
              "\n",
              "Statistics by Class:\n",
              "\n",
              "                     Class: Elective Class: Emergency Class: Urgent\n",
              "Sensitivity                   0.0000           0.0000        1.0000\n",
              "Specificity                   1.0000           1.0000        0.0000\n",
              "Pos Pred Value                   NaN              NaN        0.3391\n",
              "Neg Pred Value                0.6759           0.6632           NaN\n",
              "Prevalence                    0.3241           0.3368        0.3391\n",
              "Detection Rate                0.0000           0.0000        0.3391\n",
              "Detection Prevalence          0.0000           0.0000        1.0000\n",
              "Balanced Accuracy             0.5000           0.5000        0.5000"
            ]
          },
          "metadata": {}
        }
      ]
    },
    {
      "cell_type": "code",
      "source": [
        "confusionMatrix(rf_results, test_data$Admission.Type)"
      ],
      "metadata": {
        "colab": {
          "base_uri": "https://localhost:8080/",
          "height": 568
        },
        "id": "YLwjVklEz2Wt",
        "outputId": "0e371f21-767b-4045-c23d-e76c70a5a312"
      },
      "execution_count": 24,
      "outputs": [
        {
          "output_type": "display_data",
          "data": {
            "text/plain": [
              "Confusion Matrix and Statistics\n",
              "\n",
              "           Reference\n",
              "Prediction  Elective Emergency Urgent\n",
              "  Elective        96       103    131\n",
              "  Emergency      340       354    358\n",
              "  Urgent         536       553    528\n",
              "\n",
              "Overall Statistics\n",
              "                                          \n",
              "               Accuracy : 0.3261          \n",
              "                 95% CI : (0.3093, 0.3432)\n",
              "    No Information Rate : 0.3391          \n",
              "    P-Value [Acc > NIR] : 0.9365          \n",
              "                                          \n",
              "                  Kappa : -0.0159         \n",
              "                                          \n",
              " Mcnemar's Test P-Value : <2e-16          \n",
              "\n",
              "Statistics by Class:\n",
              "\n",
              "                     Class: Elective Class: Emergency Class: Urgent\n",
              "Sensitivity                  0.09877           0.3505        0.5192\n",
              "Specificity                  0.88456           0.6491        0.4506\n",
              "Pos Pred Value               0.29091           0.3365        0.3265\n",
              "Neg Pred Value               0.67179           0.6631        0.6462\n",
              "Prevalence                   0.32411           0.3368        0.3391\n",
              "Detection Rate               0.03201           0.1180        0.1761\n",
              "Detection Prevalence         0.11004           0.3508        0.5392\n",
              "Balanced Accuracy            0.49166           0.4998        0.4849"
            ]
          },
          "metadata": {}
        }
      ]
    },
    {
      "cell_type": "markdown",
      "source": [
        "모델 학습:\n",
        "\n",
        "로지스틱 회귀 모델, 의사결정트리 모델, 랜덤 포레스트 모델을 학습하는 과정에서, 모델이 수렴(converged)하였음을 나타내는 메시지가 여러 번 출력되었습니다. 이는 각 반복(iteration) 후에 모델이 최적의 파라미터를 찾아가는 과정을 의미합니다.<br/>\n",
        "\n",
        "모델 성능 평가:\n",
        "\n",
        "학습된 모델들의 성능을 테스트 데이터셋을 이용해 평가한 결과, 각 모델의 정확도(Accuracy)와 카파(Kappa) 통계량이 출력되었습니다. 여기서 카파 통계량은 예측의 일치도를 측정하는 지표입니다.<br/>\n",
        "첫 번째 모델의 정확도는 약 32.8%, 카파 값은 -0.01로, 이는 예측이 기대보다 약간 나쁨을 의미합니다.<br/>\n",
        "두 번째 모델의 정확도는 약 33.9%, 카파 값은 0.0으로, 이는 예측이 무작위로 분류된 것과 거의 차이가 없음을 의미합니다.<br/>\n",
        "세 번째 모델의 정확도는 약 32.4%, 카파 값은 -0.0189로, 이는 예측이 기대보다 약간 나쁨을 의미합니다.<br/>\n",
        "이러한 결과는 사용된 분류 모델들이 귀무가설을 지지하는 것으로 해석될 수 있습니다. 즉, 환자의 의학적 상태, 성별, 혈액형이 입원 유형을 예측하는 데 중요한 요소가 아니라는 귀무가설이 타당할 수 있습니다. 그러나 모델의 성능이 낮아 다른 변수를 고려하거나, 다른 모델링 전략을 사용할 필요가 있을 수 있습니다. 추가적으로, 분류 모델의 성능을 개선하기 위해 데이터 전처리, 파라미터 조정, 또는 더 많은 데이터를 활용하는 방법을 고려해 볼 수 있습니다.\n",
        "\n",
        "\n",
        "\n",
        "\n"
      ],
      "metadata": {
        "id": "Le36b_8jfmJs"
      }
    },
    {
      "cell_type": "code",
      "source": [],
      "metadata": {
        "id": "kvtZQ7EXftvI"
      },
      "execution_count": null,
      "outputs": []
    }
  ]
}