{
  "nbformat": 4,
  "nbformat_minor": 0,
  "metadata": {
    "colab": {
      "provenance": [],
      "gpuType": "T4",
      "authorship_tag": "ABX9TyPVzj3pv0fHb1V6WtEGDSwE",
      "include_colab_link": true
    },
    "kernelspec": {
      "name": "ir",
      "display_name": "R"
    },
    "language_info": {
      "name": "R"
    },
    "accelerator": "GPU"
  },
  "cells": [
    {
      "cell_type": "markdown",
      "metadata": {
        "id": "view-in-github",
        "colab_type": "text"
      },
      "source": [
        "<a href=\"https://colab.research.google.com/github/osohyun0224/BigData-Final-Project/blob/master/MedicalData_Analyze.ipynb\" target=\"_parent\"><img src=\"https://colab.research.google.com/assets/colab-badge.svg\" alt=\"Open In Colab\"/></a>"
      ]
    },
    {
      "cell_type": "code",
      "source": [
        "#https://drive.google.com/file/d/1GIaHWMhNmtB6AzJL77DmtO_qY2yVTQtS/view?usp=drive_link\n",
        "system(\"gdown --id 1GIaHWMhNmtB6AzJL77DmtO_qY2yVTQtS\")\n",
        "system(\"ls\", TRUE)"
      ],
      "metadata": {
        "colab": {
          "base_uri": "https://localhost:8080/",
          "height": 34
        },
        "id": "9hzlX-q7ri00",
        "outputId": "60ecab78-ba12-403a-a9c4-846c626f7895"
      },
      "execution_count": 7,
      "outputs": [
        {
          "output_type": "display_data",
          "data": {
            "text/html": [
              "<style>\n",
              ".list-inline {list-style: none; margin:0; padding: 0}\n",
              ".list-inline>li {display: inline-block}\n",
              ".list-inline>li:not(:last-child)::after {content: \"\\00b7\"; padding: 0 .5ex}\n",
              "</style>\n",
              "<ol class=list-inline><li>'healthcare_dataset.csv'</li><li>'sample_data'</li></ol>\n"
            ],
            "text/markdown": "1. 'healthcare_dataset.csv'\n2. 'sample_data'\n\n\n",
            "text/latex": "\\begin{enumerate*}\n\\item 'healthcare\\_dataset.csv'\n\\item 'sample\\_data'\n\\end{enumerate*}\n",
            "text/plain": [
              "[1] \"healthcare_dataset.csv\" \"sample_data\"           "
            ]
          },
          "metadata": {}
        }
      ]
    },
    {
      "cell_type": "code",
      "source": [
        "data <- read.csv(\"healthcare_dataset.csv\")"
      ],
      "metadata": {
        "id": "sLezqgRbtuc_"
      },
      "execution_count": 9,
      "outputs": []
    },
    {
      "cell_type": "code",
      "source": [
        "str(data)"
      ],
      "metadata": {
        "colab": {
          "base_uri": "https://localhost:8080/"
        },
        "id": "feIAM5bLzRfy",
        "outputId": "35371e49-ba23-4e31-d39c-ca9d90f90317"
      },
      "execution_count": 10,
      "outputs": [
        {
          "output_type": "stream",
          "name": "stdout",
          "text": [
            "'data.frame':\t10000 obs. of  15 variables:\n",
            " $ Name              : chr  \"Tiffany Ramirez\" \"Ruben Burns\" \"Chad Byrd\" \"Antonio Frederick\" ...\n",
            " $ Age               : int  81 35 61 49 51 41 82 55 33 39 ...\n",
            " $ Gender            : chr  \"Female\" \"Male\" \"Male\" \"Male\" ...\n",
            " $ Blood.Type        : chr  \"O-\" \"O+\" \"B-\" \"B-\" ...\n",
            " $ Medical.Condition : chr  \"Diabetes\" \"Asthma\" \"Obesity\" \"Asthma\" ...\n",
            " $ Date.of.Admission : chr  \"2022-11-17\" \"2023-06-01\" \"2019-01-09\" \"2020-05-02\" ...\n",
            " $ Doctor            : chr  \"Patrick Parker\" \"Diane Jackson\" \"Paul Baker\" \"Brian Chandler\" ...\n",
            " $ Hospital          : chr  \"Wallace-Hamilton\" \"Burke, Griffin and Cooper\" \"Walton LLC\" \"Garcia Ltd\" ...\n",
            " $ Insurance.Provider: chr  \"Medicare\" \"UnitedHealthcare\" \"Medicare\" \"Medicare\" ...\n",
            " $ Billing.Amount    : num  37491 47304 36875 23303 18086 ...\n",
            " $ Room.Number       : int  146 404 292 480 477 180 161 384 215 310 ...\n",
            " $ Admission.Type    : chr  \"Elective\" \"Emergency\" \"Emergency\" \"Urgent\" ...\n",
            " $ Discharge.Date    : chr  \"2022-12-01\" \"2023-06-15\" \"2019-02-08\" \"2020-05-03\" ...\n",
            " $ Medication        : chr  \"Aspirin\" \"Lipitor\" \"Lipitor\" \"Penicillin\" ...\n",
            " $ Test.Results      : chr  \"Inconclusive\" \"Normal\" \"Normal\" \"Abnormal\" ...\n"
          ]
        }
      ]
    },
    {
      "cell_type": "code",
      "source": [
        "install.packages(\"tidyverse\")\n",
        "library(tidyverse)\n",
        "library(data.table)"
      ],
      "metadata": {
        "colab": {
          "base_uri": "https://localhost:8080/"
        },
        "id": "ybMbzjRHzjTN",
        "outputId": "d3b5cb09-2123-44a3-fd27-59acf23d6ee0"
      },
      "execution_count": 16,
      "outputs": [
        {
          "output_type": "stream",
          "name": "stderr",
          "text": [
            "Installing package into ‘/usr/local/lib/R/site-library’\n",
            "(as ‘lib’ is unspecified)\n",
            "\n",
            "\n",
            "Attaching package: ‘data.table’\n",
            "\n",
            "\n",
            "The following objects are masked from ‘package:lubridate’:\n",
            "\n",
            "    hour, isoweek, mday, minute, month, quarter, second, wday, week,\n",
            "    yday, year\n",
            "\n",
            "\n",
            "The following objects are masked from ‘package:dplyr’:\n",
            "\n",
            "    between, first, last\n",
            "\n",
            "\n",
            "The following object is masked from ‘package:purrr’:\n",
            "\n",
            "    transpose\n",
            "\n",
            "\n"
          ]
        }
      ]
    },
    {
      "cell_type": "code",
      "source": [
        "library(repr)"
      ],
      "metadata": {
        "id": "1y8UWhiI2JX7"
      },
      "execution_count": 17,
      "outputs": []
    },
    {
      "cell_type": "code",
      "source": [
        "df <- fread(\"healthcare_dataset.csv\") %>% as_tibble()"
      ],
      "metadata": {
        "id": "0IqveJ-12Aae"
      },
      "execution_count": 18,
      "outputs": []
    },
    {
      "cell_type": "code",
      "source": [
        "summary(df)"
      ],
      "metadata": {
        "colab": {
          "base_uri": "https://localhost:8080/",
          "height": 528
        },
        "id": "36oTZNLN2Wt7",
        "outputId": "85a8e271-a8eb-4a95-c7dd-a46bd650593a"
      },
      "execution_count": 19,
      "outputs": [
        {
          "output_type": "display_data",
          "data": {
            "text/plain": [
              "     Name                Age           Gender           Blood Type       \n",
              " Length:10000       Min.   :18.00   Length:10000       Length:10000      \n",
              " Class :character   1st Qu.:35.00   Class :character   Class :character  \n",
              " Mode  :character   Median :52.00   Mode  :character   Mode  :character  \n",
              "                    Mean   :51.45                                        \n",
              "                    3rd Qu.:68.00                                        \n",
              "                    Max.   :85.00                                        \n",
              " Medical Condition  Date of Admission       Doctor            Hospital        \n",
              " Length:10000       Min.   :2018-10-30   Length:10000       Length:10000      \n",
              " Class :character   1st Qu.:2020-02-10   Class :character   Class :character  \n",
              " Mode  :character   Median :2021-05-02   Mode  :character   Mode  :character  \n",
              "                    Mean   :2021-05-01                                        \n",
              "                    3rd Qu.:2022-07-23                                        \n",
              "                    Max.   :2023-10-30                                        \n",
              " Insurance Provider Billing Amount   Room Number    Admission Type    \n",
              " Length:10000       Min.   : 1000   Min.   :101.0   Length:10000      \n",
              " Class :character   1st Qu.:13507   1st Qu.:199.0   Class :character  \n",
              " Mode  :character   Median :25258   Median :299.0   Mode  :character  \n",
              "                    Mean   :25517   Mean   :300.1                     \n",
              "                    3rd Qu.:37734   3rd Qu.:400.0                     \n",
              "                    Max.   :49996   Max.   :500.0                     \n",
              " Discharge Date        Medication        Test Results      \n",
              " Min.   :2018-11-01   Length:10000       Length:10000      \n",
              " 1st Qu.:2020-02-23   Class :character   Class :character  \n",
              " Median :2021-05-18   Mode  :character   Mode  :character  \n",
              " Mean   :2021-05-17                                        \n",
              " 3rd Qu.:2022-08-07                                        \n",
              " Max.   :2023-11-27                                        "
            ]
          },
          "metadata": {}
        }
      ]
    },
    {
      "cell_type": "code",
      "source": [
        "install.packages(\"psych\")\n",
        "library(\"psych\")"
      ],
      "metadata": {
        "colab": {
          "base_uri": "https://localhost:8080/"
        },
        "id": "3s4R2D5U2uDk",
        "outputId": "b26d5909-7408-4daf-da4b-6abc43e01f69"
      },
      "execution_count": 21,
      "outputs": [
        {
          "output_type": "stream",
          "name": "stderr",
          "text": [
            "Installing package into ‘/usr/local/lib/R/site-library’\n",
            "(as ‘lib’ is unspecified)\n",
            "\n",
            "\n",
            "Attaching package: ‘psych’\n",
            "\n",
            "\n",
            "The following objects are masked from ‘package:ggplot2’:\n",
            "\n",
            "    %+%, alpha\n",
            "\n",
            "\n"
          ]
        }
      ]
    },
    {
      "cell_type": "code",
      "source": [
        "describe(df)\n",
        "describe(df) %>% round(.,2)"
      ],
      "metadata": {
        "colab": {
          "base_uri": "https://localhost:8080/",
          "height": 1000
        },
        "id": "HVFD6jQ4220V",
        "outputId": "8e404870-6900-478e-bb11-1a19b6d0df3f"
      },
      "execution_count": 22,
      "outputs": [
        {
          "output_type": "stream",
          "name": "stderr",
          "text": [
            "Warning message in FUN(newX[, i], ...):\n",
            "“no non-missing arguments to min; returning Inf”\n",
            "Warning message in FUN(newX[, i], ...):\n",
            "“no non-missing arguments to min; returning Inf”\n",
            "Warning message in FUN(newX[, i], ...):\n",
            "“no non-missing arguments to max; returning -Inf”\n",
            "Warning message in FUN(newX[, i], ...):\n",
            "“no non-missing arguments to max; returning -Inf”\n"
          ]
        },
        {
          "output_type": "display_data",
          "data": {
            "text/html": [
              "<table class=\"dataframe\">\n",
              "<caption>A psych: 15 × 13</caption>\n",
              "<thead>\n",
              "\t<tr><th></th><th scope=col>vars</th><th scope=col>n</th><th scope=col>mean</th><th scope=col>sd</th><th scope=col>median</th><th scope=col>trimmed</th><th scope=col>mad</th><th scope=col>min</th><th scope=col>max</th><th scope=col>range</th><th scope=col>skew</th><th scope=col>kurtosis</th><th scope=col>se</th></tr>\n",
              "\t<tr><th></th><th scope=col>&lt;int&gt;</th><th scope=col>&lt;dbl&gt;</th><th scope=col>&lt;dbl&gt;</th><th scope=col>&lt;dbl&gt;</th><th scope=col>&lt;dbl&gt;</th><th scope=col>&lt;dbl&gt;</th><th scope=col>&lt;dbl&gt;</th><th scope=col>&lt;dbl&gt;</th><th scope=col>&lt;dbl&gt;</th><th scope=col>&lt;dbl&gt;</th><th scope=col>&lt;dbl&gt;</th><th scope=col>&lt;dbl&gt;</th><th scope=col>&lt;dbl&gt;</th></tr>\n",
              "</thead>\n",
              "<tbody>\n",
              "\t<tr><th scope=row>Name*</th><td> 1</td><td>10000</td><td> 4693.6494</td><td>2.697154e+03</td><td> 4684.50</td><td> 4694.821125</td><td> 3453.7167</td><td>   1.000</td><td> 9378.0</td><td> 9377.00</td><td>-0.003609734</td><td>-1.192705</td><td>2.697154e+01</td></tr>\n",
              "\t<tr><th scope=row>Age</th><td> 2</td><td>10000</td><td>   51.4522</td><td>1.958897e+01</td><td>   52.00</td><td>   51.489000</td><td>   25.2042</td><td>  18.000</td><td>   85.0</td><td>   67.00</td><td>-0.012144215</td><td>-1.205294</td><td>1.958897e-01</td></tr>\n",
              "\t<tr><th scope=row>Gender*</th><td> 3</td><td>10000</td><td>    1.4925</td><td>4.999687e-01</td><td>    1.00</td><td>    1.490625</td><td>    0.0000</td><td>   1.000</td><td>    2.0</td><td>    1.00</td><td> 0.029998875</td><td>-1.999300</td><td>4.999687e-03</td></tr>\n",
              "\t<tr><th scope=row>Blood Type*</th><td> 4</td><td>10000</td><td>    4.4993</td><td>2.286596e+00</td><td>    4.00</td><td>    4.499125</td><td>    2.9652</td><td>   1.000</td><td>    8.0</td><td>    7.00</td><td> 0.004015200</td><td>-1.233060</td><td>2.286596e-02</td></tr>\n",
              "\t<tr><th scope=row>Medical Condition*</th><td> 5</td><td>10000</td><td>    3.4875</td><td>1.701803e+00</td><td>    3.00</td><td>    3.484375</td><td>    1.4826</td><td>   1.000</td><td>    6.0</td><td>    5.00</td><td> 0.013486678</td><td>-1.265853</td><td>1.701803e-02</td></tr>\n",
              "\t<tr><th scope=row>Date of Admission</th><td> 6</td><td>10000</td><td>       NaN</td><td>          NA</td><td>      NA</td><td>         NaN</td><td>        NA</td><td>     Inf</td><td>   -Inf</td><td>    -Inf</td><td>          NA</td><td>       NA</td><td>          NA</td></tr>\n",
              "\t<tr><th scope=row>Doctor*</th><td> 7</td><td>10000</td><td> 4713.6510</td><td>2.713557e+03</td><td> 4703.50</td><td> 4714.490750</td><td> 3479.6622</td><td>   1.000</td><td> 9416.0</td><td> 9415.00</td><td>-0.003422827</td><td>-1.195984</td><td>2.713557e+01</td></tr>\n",
              "\t<tr><th scope=row>Hospital*</th><td> 8</td><td>10000</td><td> 4350.3075</td><td>2.500044e+03</td><td> 4342.50</td><td> 4356.464875</td><td> 3213.5355</td><td>   1.000</td><td> 8639.0</td><td> 8638.00</td><td>-0.016235504</td><td>-1.197810</td><td>2.500044e+01</td></tr>\n",
              "\t<tr><th scope=row>Insurance Provider*</th><td> 9</td><td>10000</td><td>    2.9799</td><td>1.413045e+00</td><td>    3.00</td><td>    2.974875</td><td>    1.4826</td><td>   1.000</td><td>    5.0</td><td>    4.00</td><td> 0.025553380</td><td>-1.294003</td><td>1.413045e-02</td></tr>\n",
              "\t<tr><th scope=row>Billing Amount</th><td>10</td><td>10000</td><td>25516.8068</td><td>1.406729e+04</td><td>25258.11</td><td>25511.212499</td><td>18006.5940</td><td>1000.181</td><td>49995.9</td><td>48995.72</td><td> 0.012717412</td><td>-1.182838</td><td>1.406729e+02</td></tr>\n",
              "\t<tr><th scope=row>Room Number</th><td>11</td><td>10000</td><td>  300.0820</td><td>1.158060e+02</td><td>  299.00</td><td>  299.857125</td><td>  149.7426</td><td> 101.000</td><td>  500.0</td><td>  399.00</td><td> 0.013366313</td><td>-1.213303</td><td>1.158060e+00</td></tr>\n",
              "\t<tr><th scope=row>Admission Type*</th><td>12</td><td>10000</td><td>    2.0149</td><td>8.143367e-01</td><td>    2.00</td><td>    2.018625</td><td>    1.4826</td><td>   1.000</td><td>    3.0</td><td>    2.00</td><td>-0.027300505</td><td>-1.491689</td><td>8.143367e-03</td></tr>\n",
              "\t<tr><th scope=row>Discharge Date</th><td>13</td><td>10000</td><td>       NaN</td><td>          NA</td><td>      NA</td><td>         NaN</td><td>        NA</td><td>     Inf</td><td>   -Inf</td><td>    -Inf</td><td>          NA</td><td>       NA</td><td>          NA</td></tr>\n",
              "\t<tr><th scope=row>Medication*</th><td>14</td><td>10000</td><td>    3.0208</td><td>1.418580e+00</td><td>    3.00</td><td>    3.026000</td><td>    1.4826</td><td>   1.000</td><td>    5.0</td><td>    4.00</td><td>-0.013370291</td><td>-1.304300</td><td>1.418580e-02</td></tr>\n",
              "\t<tr><th scope=row>Test Results*</th><td>15</td><td>10000</td><td>    1.9811</td><td>8.197622e-01</td><td>    2.00</td><td>    1.976375</td><td>    1.4826</td><td>   1.000</td><td>    3.0</td><td>    2.00</td><td> 0.034863520</td><td>-1.511259</td><td>8.197622e-03</td></tr>\n",
              "</tbody>\n",
              "</table>\n"
            ],
            "text/markdown": "\nA psych: 15 × 13\n\n| <!--/--> | vars &lt;int&gt; | n &lt;dbl&gt; | mean &lt;dbl&gt; | sd &lt;dbl&gt; | median &lt;dbl&gt; | trimmed &lt;dbl&gt; | mad &lt;dbl&gt; | min &lt;dbl&gt; | max &lt;dbl&gt; | range &lt;dbl&gt; | skew &lt;dbl&gt; | kurtosis &lt;dbl&gt; | se &lt;dbl&gt; |\n|---|---|---|---|---|---|---|---|---|---|---|---|---|---|\n| Name* |  1 | 10000 |  4693.6494 | 2.697154e+03 |  4684.50 |  4694.821125 |  3453.7167 |    1.000 |  9378.0 |  9377.00 | -0.003609734 | -1.192705 | 2.697154e+01 |\n| Age |  2 | 10000 |    51.4522 | 1.958897e+01 |    52.00 |    51.489000 |    25.2042 |   18.000 |    85.0 |    67.00 | -0.012144215 | -1.205294 | 1.958897e-01 |\n| Gender* |  3 | 10000 |     1.4925 | 4.999687e-01 |     1.00 |     1.490625 |     0.0000 |    1.000 |     2.0 |     1.00 |  0.029998875 | -1.999300 | 4.999687e-03 |\n| Blood Type* |  4 | 10000 |     4.4993 | 2.286596e+00 |     4.00 |     4.499125 |     2.9652 |    1.000 |     8.0 |     7.00 |  0.004015200 | -1.233060 | 2.286596e-02 |\n| Medical Condition* |  5 | 10000 |     3.4875 | 1.701803e+00 |     3.00 |     3.484375 |     1.4826 |    1.000 |     6.0 |     5.00 |  0.013486678 | -1.265853 | 1.701803e-02 |\n| Date of Admission |  6 | 10000 |        NaN |           NA |       NA |          NaN |         NA |      Inf |    -Inf |     -Inf |           NA |        NA |           NA |\n| Doctor* |  7 | 10000 |  4713.6510 | 2.713557e+03 |  4703.50 |  4714.490750 |  3479.6622 |    1.000 |  9416.0 |  9415.00 | -0.003422827 | -1.195984 | 2.713557e+01 |\n| Hospital* |  8 | 10000 |  4350.3075 | 2.500044e+03 |  4342.50 |  4356.464875 |  3213.5355 |    1.000 |  8639.0 |  8638.00 | -0.016235504 | -1.197810 | 2.500044e+01 |\n| Insurance Provider* |  9 | 10000 |     2.9799 | 1.413045e+00 |     3.00 |     2.974875 |     1.4826 |    1.000 |     5.0 |     4.00 |  0.025553380 | -1.294003 | 1.413045e-02 |\n| Billing Amount | 10 | 10000 | 25516.8068 | 1.406729e+04 | 25258.11 | 25511.212499 | 18006.5940 | 1000.181 | 49995.9 | 48995.72 |  0.012717412 | -1.182838 | 1.406729e+02 |\n| Room Number | 11 | 10000 |   300.0820 | 1.158060e+02 |   299.00 |   299.857125 |   149.7426 |  101.000 |   500.0 |   399.00 |  0.013366313 | -1.213303 | 1.158060e+00 |\n| Admission Type* | 12 | 10000 |     2.0149 | 8.143367e-01 |     2.00 |     2.018625 |     1.4826 |    1.000 |     3.0 |     2.00 | -0.027300505 | -1.491689 | 8.143367e-03 |\n| Discharge Date | 13 | 10000 |        NaN |           NA |       NA |          NaN |         NA |      Inf |    -Inf |     -Inf |           NA |        NA |           NA |\n| Medication* | 14 | 10000 |     3.0208 | 1.418580e+00 |     3.00 |     3.026000 |     1.4826 |    1.000 |     5.0 |     4.00 | -0.013370291 | -1.304300 | 1.418580e-02 |\n| Test Results* | 15 | 10000 |     1.9811 | 8.197622e-01 |     2.00 |     1.976375 |     1.4826 |    1.000 |     3.0 |     2.00 |  0.034863520 | -1.511259 | 8.197622e-03 |\n\n",
            "text/latex": "A psych: 15 × 13\n\\begin{tabular}{r|lllllllllllll}\n  & vars & n & mean & sd & median & trimmed & mad & min & max & range & skew & kurtosis & se\\\\\n  & <int> & <dbl> & <dbl> & <dbl> & <dbl> & <dbl> & <dbl> & <dbl> & <dbl> & <dbl> & <dbl> & <dbl> & <dbl>\\\\\n\\hline\n\tName* &  1 & 10000 &  4693.6494 & 2.697154e+03 &  4684.50 &  4694.821125 &  3453.7167 &    1.000 &  9378.0 &  9377.00 & -0.003609734 & -1.192705 & 2.697154e+01\\\\\n\tAge &  2 & 10000 &    51.4522 & 1.958897e+01 &    52.00 &    51.489000 &    25.2042 &   18.000 &    85.0 &    67.00 & -0.012144215 & -1.205294 & 1.958897e-01\\\\\n\tGender* &  3 & 10000 &     1.4925 & 4.999687e-01 &     1.00 &     1.490625 &     0.0000 &    1.000 &     2.0 &     1.00 &  0.029998875 & -1.999300 & 4.999687e-03\\\\\n\tBlood Type* &  4 & 10000 &     4.4993 & 2.286596e+00 &     4.00 &     4.499125 &     2.9652 &    1.000 &     8.0 &     7.00 &  0.004015200 & -1.233060 & 2.286596e-02\\\\\n\tMedical Condition* &  5 & 10000 &     3.4875 & 1.701803e+00 &     3.00 &     3.484375 &     1.4826 &    1.000 &     6.0 &     5.00 &  0.013486678 & -1.265853 & 1.701803e-02\\\\\n\tDate of Admission &  6 & 10000 &        NaN &           NA &       NA &          NaN &         NA &      Inf &    -Inf &     -Inf &           NA &        NA &           NA\\\\\n\tDoctor* &  7 & 10000 &  4713.6510 & 2.713557e+03 &  4703.50 &  4714.490750 &  3479.6622 &    1.000 &  9416.0 &  9415.00 & -0.003422827 & -1.195984 & 2.713557e+01\\\\\n\tHospital* &  8 & 10000 &  4350.3075 & 2.500044e+03 &  4342.50 &  4356.464875 &  3213.5355 &    1.000 &  8639.0 &  8638.00 & -0.016235504 & -1.197810 & 2.500044e+01\\\\\n\tInsurance Provider* &  9 & 10000 &     2.9799 & 1.413045e+00 &     3.00 &     2.974875 &     1.4826 &    1.000 &     5.0 &     4.00 &  0.025553380 & -1.294003 & 1.413045e-02\\\\\n\tBilling Amount & 10 & 10000 & 25516.8068 & 1.406729e+04 & 25258.11 & 25511.212499 & 18006.5940 & 1000.181 & 49995.9 & 48995.72 &  0.012717412 & -1.182838 & 1.406729e+02\\\\\n\tRoom Number & 11 & 10000 &   300.0820 & 1.158060e+02 &   299.00 &   299.857125 &   149.7426 &  101.000 &   500.0 &   399.00 &  0.013366313 & -1.213303 & 1.158060e+00\\\\\n\tAdmission Type* & 12 & 10000 &     2.0149 & 8.143367e-01 &     2.00 &     2.018625 &     1.4826 &    1.000 &     3.0 &     2.00 & -0.027300505 & -1.491689 & 8.143367e-03\\\\\n\tDischarge Date & 13 & 10000 &        NaN &           NA &       NA &          NaN &         NA &      Inf &    -Inf &     -Inf &           NA &        NA &           NA\\\\\n\tMedication* & 14 & 10000 &     3.0208 & 1.418580e+00 &     3.00 &     3.026000 &     1.4826 &    1.000 &     5.0 &     4.00 & -0.013370291 & -1.304300 & 1.418580e-02\\\\\n\tTest Results* & 15 & 10000 &     1.9811 & 8.197622e-01 &     2.00 &     1.976375 &     1.4826 &    1.000 &     3.0 &     2.00 &  0.034863520 & -1.511259 & 8.197622e-03\\\\\n\\end{tabular}\n",
            "text/plain": [
              "                    vars n     mean       sd           median   trimmed     \n",
              "Name*                1   10000  4693.6494 2.697154e+03  4684.50  4694.821125\n",
              "Age                  2   10000    51.4522 1.958897e+01    52.00    51.489000\n",
              "Gender*              3   10000     1.4925 4.999687e-01     1.00     1.490625\n",
              "Blood Type*          4   10000     4.4993 2.286596e+00     4.00     4.499125\n",
              "Medical Condition*   5   10000     3.4875 1.701803e+00     3.00     3.484375\n",
              "Date of Admission    6   10000        NaN           NA       NA          NaN\n",
              "Doctor*              7   10000  4713.6510 2.713557e+03  4703.50  4714.490750\n",
              "Hospital*            8   10000  4350.3075 2.500044e+03  4342.50  4356.464875\n",
              "Insurance Provider*  9   10000     2.9799 1.413045e+00     3.00     2.974875\n",
              "Billing Amount      10   10000 25516.8068 1.406729e+04 25258.11 25511.212499\n",
              "Room Number         11   10000   300.0820 1.158060e+02   299.00   299.857125\n",
              "Admission Type*     12   10000     2.0149 8.143367e-01     2.00     2.018625\n",
              "Discharge Date      13   10000        NaN           NA       NA          NaN\n",
              "Medication*         14   10000     3.0208 1.418580e+00     3.00     3.026000\n",
              "Test Results*       15   10000     1.9811 8.197622e-01     2.00     1.976375\n",
              "                    mad        min      max     range    skew         kurtosis \n",
              "Name*                3453.7167    1.000  9378.0  9377.00 -0.003609734 -1.192705\n",
              "Age                    25.2042   18.000    85.0    67.00 -0.012144215 -1.205294\n",
              "Gender*                 0.0000    1.000     2.0     1.00  0.029998875 -1.999300\n",
              "Blood Type*             2.9652    1.000     8.0     7.00  0.004015200 -1.233060\n",
              "Medical Condition*      1.4826    1.000     6.0     5.00  0.013486678 -1.265853\n",
              "Date of Admission           NA      Inf    -Inf     -Inf           NA        NA\n",
              "Doctor*              3479.6622    1.000  9416.0  9415.00 -0.003422827 -1.195984\n",
              "Hospital*            3213.5355    1.000  8639.0  8638.00 -0.016235504 -1.197810\n",
              "Insurance Provider*     1.4826    1.000     5.0     4.00  0.025553380 -1.294003\n",
              "Billing Amount      18006.5940 1000.181 49995.9 48995.72  0.012717412 -1.182838\n",
              "Room Number           149.7426  101.000   500.0   399.00  0.013366313 -1.213303\n",
              "Admission Type*         1.4826    1.000     3.0     2.00 -0.027300505 -1.491689\n",
              "Discharge Date              NA      Inf    -Inf     -Inf           NA        NA\n",
              "Medication*             1.4826    1.000     5.0     4.00 -0.013370291 -1.304300\n",
              "Test Results*           1.4826    1.000     3.0     2.00  0.034863520 -1.511259\n",
              "                    se          \n",
              "Name*               2.697154e+01\n",
              "Age                 1.958897e-01\n",
              "Gender*             4.999687e-03\n",
              "Blood Type*         2.286596e-02\n",
              "Medical Condition*  1.701803e-02\n",
              "Date of Admission             NA\n",
              "Doctor*             2.713557e+01\n",
              "Hospital*           2.500044e+01\n",
              "Insurance Provider* 1.413045e-02\n",
              "Billing Amount      1.406729e+02\n",
              "Room Number         1.158060e+00\n",
              "Admission Type*     8.143367e-03\n",
              "Discharge Date                NA\n",
              "Medication*         1.418580e-02\n",
              "Test Results*       8.197622e-03"
            ]
          },
          "metadata": {}
        },
        {
          "output_type": "stream",
          "name": "stderr",
          "text": [
            "Warning message in FUN(newX[, i], ...):\n",
            "“no non-missing arguments to min; returning Inf”\n",
            "Warning message in FUN(newX[, i], ...):\n",
            "“no non-missing arguments to min; returning Inf”\n",
            "Warning message in FUN(newX[, i], ...):\n",
            "“no non-missing arguments to max; returning -Inf”\n",
            "Warning message in FUN(newX[, i], ...):\n",
            "“no non-missing arguments to max; returning -Inf”\n"
          ]
        },
        {
          "output_type": "display_data",
          "data": {
            "text/html": [
              "<table class=\"dataframe\">\n",
              "<caption>A psych: 15 × 13</caption>\n",
              "<thead>\n",
              "\t<tr><th></th><th scope=col>vars</th><th scope=col>n</th><th scope=col>mean</th><th scope=col>sd</th><th scope=col>median</th><th scope=col>trimmed</th><th scope=col>mad</th><th scope=col>min</th><th scope=col>max</th><th scope=col>range</th><th scope=col>skew</th><th scope=col>kurtosis</th><th scope=col>se</th></tr>\n",
              "\t<tr><th></th><th scope=col>&lt;dbl&gt;</th><th scope=col>&lt;dbl&gt;</th><th scope=col>&lt;dbl&gt;</th><th scope=col>&lt;dbl&gt;</th><th scope=col>&lt;dbl&gt;</th><th scope=col>&lt;dbl&gt;</th><th scope=col>&lt;dbl&gt;</th><th scope=col>&lt;dbl&gt;</th><th scope=col>&lt;dbl&gt;</th><th scope=col>&lt;dbl&gt;</th><th scope=col>&lt;dbl&gt;</th><th scope=col>&lt;dbl&gt;</th><th scope=col>&lt;dbl&gt;</th></tr>\n",
              "</thead>\n",
              "<tbody>\n",
              "\t<tr><th scope=row>Name*</th><td> 1</td><td>10000</td><td> 4693.65</td><td> 2697.15</td><td> 4684.50</td><td> 4694.82</td><td> 3453.72</td><td>   1.00</td><td> 9378.0</td><td> 9377.00</td><td> 0.00</td><td>-1.19</td><td> 26.97</td></tr>\n",
              "\t<tr><th scope=row>Age</th><td> 2</td><td>10000</td><td>   51.45</td><td>   19.59</td><td>   52.00</td><td>   51.49</td><td>   25.20</td><td>  18.00</td><td>   85.0</td><td>   67.00</td><td>-0.01</td><td>-1.21</td><td>  0.20</td></tr>\n",
              "\t<tr><th scope=row>Gender*</th><td> 3</td><td>10000</td><td>    1.49</td><td>    0.50</td><td>    1.00</td><td>    1.49</td><td>    0.00</td><td>   1.00</td><td>    2.0</td><td>    1.00</td><td> 0.03</td><td>-2.00</td><td>  0.00</td></tr>\n",
              "\t<tr><th scope=row>Blood Type*</th><td> 4</td><td>10000</td><td>    4.50</td><td>    2.29</td><td>    4.00</td><td>    4.50</td><td>    2.97</td><td>   1.00</td><td>    8.0</td><td>    7.00</td><td> 0.00</td><td>-1.23</td><td>  0.02</td></tr>\n",
              "\t<tr><th scope=row>Medical Condition*</th><td> 5</td><td>10000</td><td>    3.49</td><td>    1.70</td><td>    3.00</td><td>    3.48</td><td>    1.48</td><td>   1.00</td><td>    6.0</td><td>    5.00</td><td> 0.01</td><td>-1.27</td><td>  0.02</td></tr>\n",
              "\t<tr><th scope=row>Date of Admission</th><td> 6</td><td>10000</td><td>     NaN</td><td>      NA</td><td>      NA</td><td>     NaN</td><td>      NA</td><td>    Inf</td><td>   -Inf</td><td>    -Inf</td><td>   NA</td><td>   NA</td><td>    NA</td></tr>\n",
              "\t<tr><th scope=row>Doctor*</th><td> 7</td><td>10000</td><td> 4713.65</td><td> 2713.56</td><td> 4703.50</td><td> 4714.49</td><td> 3479.66</td><td>   1.00</td><td> 9416.0</td><td> 9415.00</td><td> 0.00</td><td>-1.20</td><td> 27.14</td></tr>\n",
              "\t<tr><th scope=row>Hospital*</th><td> 8</td><td>10000</td><td> 4350.31</td><td> 2500.04</td><td> 4342.50</td><td> 4356.46</td><td> 3213.54</td><td>   1.00</td><td> 8639.0</td><td> 8638.00</td><td>-0.02</td><td>-1.20</td><td> 25.00</td></tr>\n",
              "\t<tr><th scope=row>Insurance Provider*</th><td> 9</td><td>10000</td><td>    2.98</td><td>    1.41</td><td>    3.00</td><td>    2.97</td><td>    1.48</td><td>   1.00</td><td>    5.0</td><td>    4.00</td><td> 0.03</td><td>-1.29</td><td>  0.01</td></tr>\n",
              "\t<tr><th scope=row>Billing Amount</th><td>10</td><td>10000</td><td>25516.81</td><td>14067.29</td><td>25258.11</td><td>25511.21</td><td>18006.59</td><td>1000.18</td><td>49995.9</td><td>48995.72</td><td> 0.01</td><td>-1.18</td><td>140.67</td></tr>\n",
              "\t<tr><th scope=row>Room Number</th><td>11</td><td>10000</td><td>  300.08</td><td>  115.81</td><td>  299.00</td><td>  299.86</td><td>  149.74</td><td> 101.00</td><td>  500.0</td><td>  399.00</td><td> 0.01</td><td>-1.21</td><td>  1.16</td></tr>\n",
              "\t<tr><th scope=row>Admission Type*</th><td>12</td><td>10000</td><td>    2.01</td><td>    0.81</td><td>    2.00</td><td>    2.02</td><td>    1.48</td><td>   1.00</td><td>    3.0</td><td>    2.00</td><td>-0.03</td><td>-1.49</td><td>  0.01</td></tr>\n",
              "\t<tr><th scope=row>Discharge Date</th><td>13</td><td>10000</td><td>     NaN</td><td>      NA</td><td>      NA</td><td>     NaN</td><td>      NA</td><td>    Inf</td><td>   -Inf</td><td>    -Inf</td><td>   NA</td><td>   NA</td><td>    NA</td></tr>\n",
              "\t<tr><th scope=row>Medication*</th><td>14</td><td>10000</td><td>    3.02</td><td>    1.42</td><td>    3.00</td><td>    3.03</td><td>    1.48</td><td>   1.00</td><td>    5.0</td><td>    4.00</td><td>-0.01</td><td>-1.30</td><td>  0.01</td></tr>\n",
              "\t<tr><th scope=row>Test Results*</th><td>15</td><td>10000</td><td>    1.98</td><td>    0.82</td><td>    2.00</td><td>    1.98</td><td>    1.48</td><td>   1.00</td><td>    3.0</td><td>    2.00</td><td> 0.03</td><td>-1.51</td><td>  0.01</td></tr>\n",
              "</tbody>\n",
              "</table>\n"
            ],
            "text/markdown": "\nA psych: 15 × 13\n\n| <!--/--> | vars &lt;dbl&gt; | n &lt;dbl&gt; | mean &lt;dbl&gt; | sd &lt;dbl&gt; | median &lt;dbl&gt; | trimmed &lt;dbl&gt; | mad &lt;dbl&gt; | min &lt;dbl&gt; | max &lt;dbl&gt; | range &lt;dbl&gt; | skew &lt;dbl&gt; | kurtosis &lt;dbl&gt; | se &lt;dbl&gt; |\n|---|---|---|---|---|---|---|---|---|---|---|---|---|---|\n| Name* |  1 | 10000 |  4693.65 |  2697.15 |  4684.50 |  4694.82 |  3453.72 |    1.00 |  9378.0 |  9377.00 |  0.00 | -1.19 |  26.97 |\n| Age |  2 | 10000 |    51.45 |    19.59 |    52.00 |    51.49 |    25.20 |   18.00 |    85.0 |    67.00 | -0.01 | -1.21 |   0.20 |\n| Gender* |  3 | 10000 |     1.49 |     0.50 |     1.00 |     1.49 |     0.00 |    1.00 |     2.0 |     1.00 |  0.03 | -2.00 |   0.00 |\n| Blood Type* |  4 | 10000 |     4.50 |     2.29 |     4.00 |     4.50 |     2.97 |    1.00 |     8.0 |     7.00 |  0.00 | -1.23 |   0.02 |\n| Medical Condition* |  5 | 10000 |     3.49 |     1.70 |     3.00 |     3.48 |     1.48 |    1.00 |     6.0 |     5.00 |  0.01 | -1.27 |   0.02 |\n| Date of Admission |  6 | 10000 |      NaN |       NA |       NA |      NaN |       NA |     Inf |    -Inf |     -Inf |    NA |    NA |     NA |\n| Doctor* |  7 | 10000 |  4713.65 |  2713.56 |  4703.50 |  4714.49 |  3479.66 |    1.00 |  9416.0 |  9415.00 |  0.00 | -1.20 |  27.14 |\n| Hospital* |  8 | 10000 |  4350.31 |  2500.04 |  4342.50 |  4356.46 |  3213.54 |    1.00 |  8639.0 |  8638.00 | -0.02 | -1.20 |  25.00 |\n| Insurance Provider* |  9 | 10000 |     2.98 |     1.41 |     3.00 |     2.97 |     1.48 |    1.00 |     5.0 |     4.00 |  0.03 | -1.29 |   0.01 |\n| Billing Amount | 10 | 10000 | 25516.81 | 14067.29 | 25258.11 | 25511.21 | 18006.59 | 1000.18 | 49995.9 | 48995.72 |  0.01 | -1.18 | 140.67 |\n| Room Number | 11 | 10000 |   300.08 |   115.81 |   299.00 |   299.86 |   149.74 |  101.00 |   500.0 |   399.00 |  0.01 | -1.21 |   1.16 |\n| Admission Type* | 12 | 10000 |     2.01 |     0.81 |     2.00 |     2.02 |     1.48 |    1.00 |     3.0 |     2.00 | -0.03 | -1.49 |   0.01 |\n| Discharge Date | 13 | 10000 |      NaN |       NA |       NA |      NaN |       NA |     Inf |    -Inf |     -Inf |    NA |    NA |     NA |\n| Medication* | 14 | 10000 |     3.02 |     1.42 |     3.00 |     3.03 |     1.48 |    1.00 |     5.0 |     4.00 | -0.01 | -1.30 |   0.01 |\n| Test Results* | 15 | 10000 |     1.98 |     0.82 |     2.00 |     1.98 |     1.48 |    1.00 |     3.0 |     2.00 |  0.03 | -1.51 |   0.01 |\n\n",
            "text/latex": "A psych: 15 × 13\n\\begin{tabular}{r|lllllllllllll}\n  & vars & n & mean & sd & median & trimmed & mad & min & max & range & skew & kurtosis & se\\\\\n  & <dbl> & <dbl> & <dbl> & <dbl> & <dbl> & <dbl> & <dbl> & <dbl> & <dbl> & <dbl> & <dbl> & <dbl> & <dbl>\\\\\n\\hline\n\tName* &  1 & 10000 &  4693.65 &  2697.15 &  4684.50 &  4694.82 &  3453.72 &    1.00 &  9378.0 &  9377.00 &  0.00 & -1.19 &  26.97\\\\\n\tAge &  2 & 10000 &    51.45 &    19.59 &    52.00 &    51.49 &    25.20 &   18.00 &    85.0 &    67.00 & -0.01 & -1.21 &   0.20\\\\\n\tGender* &  3 & 10000 &     1.49 &     0.50 &     1.00 &     1.49 &     0.00 &    1.00 &     2.0 &     1.00 &  0.03 & -2.00 &   0.00\\\\\n\tBlood Type* &  4 & 10000 &     4.50 &     2.29 &     4.00 &     4.50 &     2.97 &    1.00 &     8.0 &     7.00 &  0.00 & -1.23 &   0.02\\\\\n\tMedical Condition* &  5 & 10000 &     3.49 &     1.70 &     3.00 &     3.48 &     1.48 &    1.00 &     6.0 &     5.00 &  0.01 & -1.27 &   0.02\\\\\n\tDate of Admission &  6 & 10000 &      NaN &       NA &       NA &      NaN &       NA &     Inf &    -Inf &     -Inf &    NA &    NA &     NA\\\\\n\tDoctor* &  7 & 10000 &  4713.65 &  2713.56 &  4703.50 &  4714.49 &  3479.66 &    1.00 &  9416.0 &  9415.00 &  0.00 & -1.20 &  27.14\\\\\n\tHospital* &  8 & 10000 &  4350.31 &  2500.04 &  4342.50 &  4356.46 &  3213.54 &    1.00 &  8639.0 &  8638.00 & -0.02 & -1.20 &  25.00\\\\\n\tInsurance Provider* &  9 & 10000 &     2.98 &     1.41 &     3.00 &     2.97 &     1.48 &    1.00 &     5.0 &     4.00 &  0.03 & -1.29 &   0.01\\\\\n\tBilling Amount & 10 & 10000 & 25516.81 & 14067.29 & 25258.11 & 25511.21 & 18006.59 & 1000.18 & 49995.9 & 48995.72 &  0.01 & -1.18 & 140.67\\\\\n\tRoom Number & 11 & 10000 &   300.08 &   115.81 &   299.00 &   299.86 &   149.74 &  101.00 &   500.0 &   399.00 &  0.01 & -1.21 &   1.16\\\\\n\tAdmission Type* & 12 & 10000 &     2.01 &     0.81 &     2.00 &     2.02 &     1.48 &    1.00 &     3.0 &     2.00 & -0.03 & -1.49 &   0.01\\\\\n\tDischarge Date & 13 & 10000 &      NaN &       NA &       NA &      NaN &       NA &     Inf &    -Inf &     -Inf &    NA &    NA &     NA\\\\\n\tMedication* & 14 & 10000 &     3.02 &     1.42 &     3.00 &     3.03 &     1.48 &    1.00 &     5.0 &     4.00 & -0.01 & -1.30 &   0.01\\\\\n\tTest Results* & 15 & 10000 &     1.98 &     0.82 &     2.00 &     1.98 &     1.48 &    1.00 &     3.0 &     2.00 &  0.03 & -1.51 &   0.01\\\\\n\\end{tabular}\n",
            "text/plain": [
              "                    vars n     mean     sd       median   trimmed  mad     \n",
              "Name*                1   10000  4693.65  2697.15  4684.50  4694.82  3453.72\n",
              "Age                  2   10000    51.45    19.59    52.00    51.49    25.20\n",
              "Gender*              3   10000     1.49     0.50     1.00     1.49     0.00\n",
              "Blood Type*          4   10000     4.50     2.29     4.00     4.50     2.97\n",
              "Medical Condition*   5   10000     3.49     1.70     3.00     3.48     1.48\n",
              "Date of Admission    6   10000      NaN       NA       NA      NaN       NA\n",
              "Doctor*              7   10000  4713.65  2713.56  4703.50  4714.49  3479.66\n",
              "Hospital*            8   10000  4350.31  2500.04  4342.50  4356.46  3213.54\n",
              "Insurance Provider*  9   10000     2.98     1.41     3.00     2.97     1.48\n",
              "Billing Amount      10   10000 25516.81 14067.29 25258.11 25511.21 18006.59\n",
              "Room Number         11   10000   300.08   115.81   299.00   299.86   149.74\n",
              "Admission Type*     12   10000     2.01     0.81     2.00     2.02     1.48\n",
              "Discharge Date      13   10000      NaN       NA       NA      NaN       NA\n",
              "Medication*         14   10000     3.02     1.42     3.00     3.03     1.48\n",
              "Test Results*       15   10000     1.98     0.82     2.00     1.98     1.48\n",
              "                    min     max     range    skew  kurtosis se    \n",
              "Name*                  1.00  9378.0  9377.00  0.00 -1.19     26.97\n",
              "Age                   18.00    85.0    67.00 -0.01 -1.21      0.20\n",
              "Gender*                1.00     2.0     1.00  0.03 -2.00      0.00\n",
              "Blood Type*            1.00     8.0     7.00  0.00 -1.23      0.02\n",
              "Medical Condition*     1.00     6.0     5.00  0.01 -1.27      0.02\n",
              "Date of Admission       Inf    -Inf     -Inf    NA    NA        NA\n",
              "Doctor*                1.00  9416.0  9415.00  0.00 -1.20     27.14\n",
              "Hospital*              1.00  8639.0  8638.00 -0.02 -1.20     25.00\n",
              "Insurance Provider*    1.00     5.0     4.00  0.03 -1.29      0.01\n",
              "Billing Amount      1000.18 49995.9 48995.72  0.01 -1.18    140.67\n",
              "Room Number          101.00   500.0   399.00  0.01 -1.21      1.16\n",
              "Admission Type*        1.00     3.0     2.00 -0.03 -1.49      0.01\n",
              "Discharge Date          Inf    -Inf     -Inf    NA    NA        NA\n",
              "Medication*            1.00     5.0     4.00 -0.01 -1.30      0.01\n",
              "Test Results*          1.00     3.0     2.00  0.03 -1.51      0.01"
            ]
          },
          "metadata": {}
        }
      ]
    },
    {
      "cell_type": "code",
      "source": [
        "summary(data)"
      ],
      "metadata": {
        "colab": {
          "base_uri": "https://localhost:8080/",
          "height": 528
        },
        "id": "BUN6tXVt3X5g",
        "outputId": "830aafbb-b6a1-439d-e3d9-c2a0ea0c34ed"
      },
      "execution_count": 23,
      "outputs": [
        {
          "output_type": "display_data",
          "data": {
            "text/plain": [
              "     Name                Age           Gender           Blood.Type       \n",
              " Length:10000       Min.   :18.00   Length:10000       Length:10000      \n",
              " Class :character   1st Qu.:35.00   Class :character   Class :character  \n",
              " Mode  :character   Median :52.00   Mode  :character   Mode  :character  \n",
              "                    Mean   :51.45                                        \n",
              "                    3rd Qu.:68.00                                        \n",
              "                    Max.   :85.00                                        \n",
              " Medical.Condition  Date.of.Admission     Doctor            Hospital        \n",
              " Length:10000       Length:10000       Length:10000       Length:10000      \n",
              " Class :character   Class :character   Class :character   Class :character  \n",
              " Mode  :character   Mode  :character   Mode  :character   Mode  :character  \n",
              "                                                                            \n",
              "                                                                            \n",
              "                                                                            \n",
              " Insurance.Provider Billing.Amount   Room.Number    Admission.Type    \n",
              " Length:10000       Min.   : 1000   Min.   :101.0   Length:10000      \n",
              " Class :character   1st Qu.:13507   1st Qu.:199.0   Class :character  \n",
              " Mode  :character   Median :25258   Median :299.0   Mode  :character  \n",
              "                    Mean   :25517   Mean   :300.1                     \n",
              "                    3rd Qu.:37734   3rd Qu.:400.0                     \n",
              "                    Max.   :49996   Max.   :500.0                     \n",
              " Discharge.Date      Medication        Test.Results      \n",
              " Length:10000       Length:10000       Length:10000      \n",
              " Class :character   Class :character   Class :character  \n",
              " Mode  :character   Mode  :character   Mode  :character  \n",
              "                                                         \n",
              "                                                         \n",
              "                                                         "
            ]
          },
          "metadata": {}
        }
      ]
    },
    {
      "cell_type": "markdown",
      "source": [
        "결측치가 있는 지 확인하고 처리하는 과정을 수행한다."
      ],
      "metadata": {
        "id": "udjKkGnS30qK"
      }
    },
    {
      "cell_type": "code",
      "source": [
        "#결측치가 있는 행을 제거한다.\n",
        "data <- na.omit(data)"
      ],
      "metadata": {
        "id": "d1x_88Gt3l_b"
      },
      "execution_count": 25,
      "outputs": []
    },
    {
      "cell_type": "markdown",
      "source": [
        "이상치가 있는지 탐색하고 제거하는 과정을 수행한다."
      ],
      "metadata": {
        "id": "Z4OsW9qw4EXN"
      }
    },
    {
      "cell_type": "code",
      "source": [
        "# Age의 이상치 확인\n",
        "boxplot(data$Age, main=\"Age Boxplot\", horizontal=TRUE, col=\"blue\")"
      ],
      "metadata": {
        "colab": {
          "base_uri": "https://localhost:8080/",
          "height": 437
        },
        "id": "Gzsha6NX37Zl",
        "outputId": "a11c3b8a-3ce6-4851-ef63-c7eed87008f0"
      },
      "execution_count": 27,
      "outputs": [
        {
          "output_type": "display_data",
          "data": {
            "text/plain": [
              "Plot with title “Age Boxplot”"
            ],
            "image/png": "[encoded data removed]"
          },
          "metadata": {
            "image/png": {
              "width": 420,
              "height": 420
            }
          }
        }
      ]
    },
    {
      "cell_type": "code",
      "source": [
        "# IQR 계산\n",
        "Q1 <- quantile(data$Age, 0.25)\n",
        "Q3 <- quantile(data$Age, 0.75)\n",
        "IQR <- Q3 - Q1\n",
        "\n",
        "# 이상치 경계값 계산\n",
        "lower_bound <- Q1 - 1.5 * IQR\n",
        "upper_bound <- Q3 + 1.5 * IQR\n",
        "\n",
        "# 결과 출력\n",
        "print(paste(\"Lower bound:\", lower_bound))\n",
        "print(paste(\"Upper bound:\", upper_bound))\n"
      ],
      "metadata": {
        "colab": {
          "base_uri": "https://localhost:8080/"
        },
        "id": "Q6d1o4ux4out",
        "outputId": "5fe432f2-66fe-49ae-b2e3-7c69c74b8bd0"
      },
      "execution_count": 30,
      "outputs": [
        {
          "output_type": "stream",
          "name": "stdout",
          "text": [
            "[1] \"Lower bound: -14.5\"\n",
            "[1] \"Upper bound: 117.5\"\n"
          ]
        }
      ]
    }
  ]
}