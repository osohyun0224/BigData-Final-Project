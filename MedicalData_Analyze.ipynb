{
  "nbformat": 4,
  "nbformat_minor": 0,
  "metadata": {
    "colab": {
      "provenance": [],
      "gpuType": "T4",
      "authorship_tag": "ABX9TyOG4j8V3batQBjf2ceOCsOR",
      "include_colab_link": true
    },
    "kernelspec": {
      "name": "ir",
      "display_name": "R"
    },
    "language_info": {
      "name": "R"
    },
    "accelerator": "GPU"
  },
  "cells": [
    {
      "cell_type": "markdown",
      "metadata": {
        "id": "view-in-github",
        "colab_type": "text"
      },
      "source": [
        "<a href=\"https://colab.research.google.com/github/osohyun0224/BigData-Final-Project/blob/master/MedicalData_Analyze.ipynb\" target=\"_parent\"><img src=\"https://colab.research.google.com/assets/colab-badge.svg\" alt=\"Open In Colab\"/></a>"
      ]
    },
    {
      "cell_type": "code",
      "source": [
        "#https://drive.google.com/file/d/1GIaHWMhNmtB6AzJL77DmtO_qY2yVTQtS/view?usp=drive_link\n",
        "system(\"gdown --id 1GIaHWMhNmtB6AzJL77DmtO_qY2yVTQtS\")\n",
        "system(\"ls\", TRUE)"
      ],
      "metadata": {
        "colab": {
          "base_uri": "https://localhost:8080/",
          "height": 34
        },
        "id": "9hzlX-q7ri00",
        "outputId": "60ecab78-ba12-403a-a9c4-846c626f7895"
      },
      "execution_count": 7,
      "outputs": [
        {
          "output_type": "display_data",
          "data": {
            "text/html": [
              "<style>\n",
              ".list-inline {list-style: none; margin:0; padding: 0}\n",
              ".list-inline>li {display: inline-block}\n",
              ".list-inline>li:not(:last-child)::after {content: \"\\00b7\"; padding: 0 .5ex}\n",
              "</style>\n",
              "<ol class=list-inline><li>'healthcare_dataset.csv'</li><li>'sample_data'</li></ol>\n"
            ],
            "text/markdown": "1. 'healthcare_dataset.csv'\n2. 'sample_data'\n\n\n",
            "text/latex": "\\begin{enumerate*}\n\\item 'healthcare\\_dataset.csv'\n\\item 'sample\\_data'\n\\end{enumerate*}\n",
            "text/plain": [
              "[1] \"healthcare_dataset.csv\" \"sample_data\"           "
            ]
          },
          "metadata": {}
        }
      ]
    },
    {
      "cell_type": "code",
      "source": [
        "data <- read.csv(\"healthcare_dataset.csv\")"
      ],
      "metadata": {
        "id": "sLezqgRbtuc_"
      },
      "execution_count": 9,
      "outputs": []
    },
    {
      "cell_type": "code",
      "source": [
        "str(data)"
      ],
      "metadata": {
        "colab": {
          "base_uri": "https://localhost:8080/"
        },
        "id": "feIAM5bLzRfy",
        "outputId": "35371e49-ba23-4e31-d39c-ca9d90f90317"
      },
      "execution_count": 10,
      "outputs": [
        {
          "output_type": "stream",
          "name": "stdout",
          "text": [
            "'data.frame':\t10000 obs. of  15 variables:\n",
            " $ Name              : chr  \"Tiffany Ramirez\" \"Ruben Burns\" \"Chad Byrd\" \"Antonio Frederick\" ...\n",
            " $ Age               : int  81 35 61 49 51 41 82 55 33 39 ...\n",
            " $ Gender            : chr  \"Female\" \"Male\" \"Male\" \"Male\" ...\n",
            " $ Blood.Type        : chr  \"O-\" \"O+\" \"B-\" \"B-\" ...\n",
            " $ Medical.Condition : chr  \"Diabetes\" \"Asthma\" \"Obesity\" \"Asthma\" ...\n",
            " $ Date.of.Admission : chr  \"2022-11-17\" \"2023-06-01\" \"2019-01-09\" \"2020-05-02\" ...\n",
            " $ Doctor            : chr  \"Patrick Parker\" \"Diane Jackson\" \"Paul Baker\" \"Brian Chandler\" ...\n",
            " $ Hospital          : chr  \"Wallace-Hamilton\" \"Burke, Griffin and Cooper\" \"Walton LLC\" \"Garcia Ltd\" ...\n",
            " $ Insurance.Provider: chr  \"Medicare\" \"UnitedHealthcare\" \"Medicare\" \"Medicare\" ...\n",
            " $ Billing.Amount    : num  37491 47304 36875 23303 18086 ...\n",
            " $ Room.Number       : int  146 404 292 480 477 180 161 384 215 310 ...\n",
            " $ Admission.Type    : chr  \"Elective\" \"Emergency\" \"Emergency\" \"Urgent\" ...\n",
            " $ Discharge.Date    : chr  \"2022-12-01\" \"2023-06-15\" \"2019-02-08\" \"2020-05-03\" ...\n",
            " $ Medication        : chr  \"Aspirin\" \"Lipitor\" \"Lipitor\" \"Penicillin\" ...\n",
            " $ Test.Results      : chr  \"Inconclusive\" \"Normal\" \"Normal\" \"Abnormal\" ...\n"
          ]
        }
      ]
    },
    {
      "cell_type": "code",
      "source": [
        "install.packages(\"tidyverse\")\n",
        "library(tidyverse)"
      ],
      "metadata": {
        "colab": {
          "base_uri": "https://localhost:8080/"
        },
        "id": "ybMbzjRHzjTN",
        "outputId": "8fe8a766-8cf4-4b1c-88d1-67915d143721"
      },
      "execution_count": 11,
      "outputs": [
        {
          "output_type": "stream",
          "name": "stderr",
          "text": [
            "Installing package into ‘/usr/local/lib/R/site-library’\n",
            "(as ‘lib’ is unspecified)\n",
            "\n",
            "── \u001b[1mAttaching core tidyverse packages\u001b[22m ──────────────────────── tidyverse 2.0.0 ──\n",
            "\u001b[32m✔\u001b[39m \u001b[34mdplyr    \u001b[39m 1.1.4     \u001b[32m✔\u001b[39m \u001b[34mreadr    \u001b[39m 2.1.4\n",
            "\u001b[32m✔\u001b[39m \u001b[34mforcats  \u001b[39m 1.0.0     \u001b[32m✔\u001b[39m \u001b[34mstringr  \u001b[39m 1.5.1\n",
            "\u001b[32m✔\u001b[39m \u001b[34mggplot2  \u001b[39m 3.4.4     \u001b[32m✔\u001b[39m \u001b[34mtibble   \u001b[39m 3.2.1\n",
            "\u001b[32m✔\u001b[39m \u001b[34mlubridate\u001b[39m 1.9.3     \u001b[32m✔\u001b[39m \u001b[34mtidyr    \u001b[39m 1.3.0\n",
            "\u001b[32m✔\u001b[39m \u001b[34mpurrr    \u001b[39m 1.0.2     \n",
            "── \u001b[1mConflicts\u001b[22m ────────────────────────────────────────── tidyverse_conflicts() ──\n",
            "\u001b[31m✖\u001b[39m \u001b[34mdplyr\u001b[39m::\u001b[32mfilter()\u001b[39m masks \u001b[34mstats\u001b[39m::filter()\n",
            "\u001b[31m✖\u001b[39m \u001b[34mdplyr\u001b[39m::\u001b[32mlag()\u001b[39m    masks \u001b[34mstats\u001b[39m::lag()\n",
            "\u001b[36mℹ\u001b[39m Use the conflicted package (\u001b[3m\u001b[34m<http://conflicted.r-lib.org/>\u001b[39m\u001b[23m) to force all conflicts to become errors\n"
          ]
        }
      ]
    }
  ]
}