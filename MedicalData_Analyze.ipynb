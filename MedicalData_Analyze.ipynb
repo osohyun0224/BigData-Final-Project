{
  "nbformat": 4,
  "nbformat_minor": 0,
  "metadata": {
    "colab": {
      "provenance": [],
      "gpuType": "T4",
      "authorship_tag": "ABX9TyN2YENZKuRvDNLeMF+IOBlY",
      "include_colab_link": true
    },
    "kernelspec": {
      "name": "ir",
      "display_name": "R"
    },
    "language_info": {
      "name": "R"
    },
    "accelerator": "GPU"
  },
  "cells": [
    {
      "cell_type": "markdown",
      "metadata": {
        "id": "view-in-github",
        "colab_type": "text"
      },
      "source": [
        "<a href=\"https://colab.research.google.com/github/osohyun0224/BigData-Final-Project/blob/master/MedicalData_Analyze.ipynb\" target=\"_parent\"><img src=\"https://colab.research.google.com/assets/colab-badge.svg\" alt=\"Open In Colab\"/></a>"
      ]
    },
    {
      "cell_type": "code",
      "source": [
        "#https://drive.google.com/file/d/1GIaHWMhNmtB6AzJL77DmtO_qY2yVTQtS/view?usp=drive_link\n",
        "system(\"gdown --id 1GIaHWMhNmtB6AzJL77DmtO_qY2yVTQtS\")\n",
        "system(\"ls\", TRUE)"
      ],
      "metadata": {
        "colab": {
          "base_uri": "https://localhost:8080/",
          "height": 34
        },
        "id": "9hzlX-q7ri00",
        "outputId": "60ecab78-ba12-403a-a9c4-846c626f7895"
      },
      "execution_count": 7,
      "outputs": [
        {
          "output_type": "display_data",
          "data": {
            "text/html": [
              "<style>\n",
              ".list-inline {list-style: none; margin:0; padding: 0}\n",
              ".list-inline>li {display: inline-block}\n",
              ".list-inline>li:not(:last-child)::after {content: \"\\00b7\"; padding: 0 .5ex}\n",
              "</style>\n",
              "<ol class=list-inline><li>'healthcare_dataset.csv'</li><li>'sample_data'</li></ol>\n"
            ],
            "text/markdown": "1. 'healthcare_dataset.csv'\n2. 'sample_data'\n\n\n",
            "text/latex": "\\begin{enumerate*}\n\\item 'healthcare\\_dataset.csv'\n\\item 'sample\\_data'\n\\end{enumerate*}\n",
            "text/plain": [
              "[1] \"healthcare_dataset.csv\" \"sample_data\"           "
            ]
          },
          "metadata": {}
        }
      ]
    },
    {
      "cell_type": "code",
      "source": [
        "data <- read.csv(\"healthcare_dataset.csv\")"
      ],
      "metadata": {
        "id": "sLezqgRbtuc_"
      },
      "execution_count": 9,
      "outputs": []
    },
    {
      "cell_type": "code",
      "source": [
        "str(data)"
      ],
      "metadata": {
        "colab": {
          "base_uri": "https://localhost:8080/"
        },
        "id": "feIAM5bLzRfy",
        "outputId": "35371e49-ba23-4e31-d39c-ca9d90f90317"
      },
      "execution_count": 10,
      "outputs": [
        {
          "output_type": "stream",
          "name": "stdout",
          "text": [
            "'data.frame':\t10000 obs. of  15 variables:\n",
            " $ Name              : chr  \"Tiffany Ramirez\" \"Ruben Burns\" \"Chad Byrd\" \"Antonio Frederick\" ...\n",
            " $ Age               : int  81 35 61 49 51 41 82 55 33 39 ...\n",
            " $ Gender            : chr  \"Female\" \"Male\" \"Male\" \"Male\" ...\n",
            " $ Blood.Type        : chr  \"O-\" \"O+\" \"B-\" \"B-\" ...\n",
            " $ Medical.Condition : chr  \"Diabetes\" \"Asthma\" \"Obesity\" \"Asthma\" ...\n",
            " $ Date.of.Admission : chr  \"2022-11-17\" \"2023-06-01\" \"2019-01-09\" \"2020-05-02\" ...\n",
            " $ Doctor            : chr  \"Patrick Parker\" \"Diane Jackson\" \"Paul Baker\" \"Brian Chandler\" ...\n",
            " $ Hospital          : chr  \"Wallace-Hamilton\" \"Burke, Griffin and Cooper\" \"Walton LLC\" \"Garcia Ltd\" ...\n",
            " $ Insurance.Provider: chr  \"Medicare\" \"UnitedHealthcare\" \"Medicare\" \"Medicare\" ...\n",
            " $ Billing.Amount    : num  37491 47304 36875 23303 18086 ...\n",
            " $ Room.Number       : int  146 404 292 480 477 180 161 384 215 310 ...\n",
            " $ Admission.Type    : chr  \"Elective\" \"Emergency\" \"Emergency\" \"Urgent\" ...\n",
            " $ Discharge.Date    : chr  \"2022-12-01\" \"2023-06-15\" \"2019-02-08\" \"2020-05-03\" ...\n",
            " $ Medication        : chr  \"Aspirin\" \"Lipitor\" \"Lipitor\" \"Penicillin\" ...\n",
            " $ Test.Results      : chr  \"Inconclusive\" \"Normal\" \"Normal\" \"Abnormal\" ...\n"
          ]
        }
      ]
    }
  ]
}