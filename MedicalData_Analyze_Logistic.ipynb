{
  "nbformat": 4,
  "nbformat_minor": 0,
  "metadata": {
    "colab": {
      "provenance": [],
      "gpuType": "T4",
      "authorship_tag": "ABX9TyOWX/CnSlU2SsL0JRUFtkkw",
      "include_colab_link": true
    },
    "kernelspec": {
      "name": "ir",
      "display_name": "R"
    },
    "language_info": {
      "name": "R"
    },
    "accelerator": "GPU"
  },
  "cells": [
    {
      "cell_type": "markdown",
      "metadata": {
        "id": "view-in-github",
        "colab_type": "text"
      },
      "source": [
        "<a href=\"https://colab.research.google.com/github/osohyun0224/BigData-Final-Project/blob/master/MedicalData_Analyze_Logistic.ipynb\" target=\"_parent\"><img src=\"https://colab.research.google.com/assets/colab-badge.svg\" alt=\"Open In Colab\"/></a>"
      ]
    },
    {
      "cell_type": "code",
      "execution_count": null,
      "metadata": {
        "colab": {
          "base_uri": "https://localhost:8080/",
          "height": 34
        },
        "id": "9Df-daK8GI0t",
        "outputId": "dcc63eb8-6697-4feb-b04c-59b99c2e2bb5"
      },
      "outputs": [
        {
          "output_type": "display_data",
          "data": {
            "text/html": [
              "<style>\n",
              ".list-inline {list-style: none; margin:0; padding: 0}\n",
              ".list-inline>li {display: inline-block}\n",
              ".list-inline>li:not(:last-child)::after {content: \"\\00b7\"; padding: 0 .5ex}\n",
              "</style>\n",
              "<ol class=list-inline><li>'healthcare_dataset.csv'</li><li>'sample_data'</li></ol>\n"
            ],
            "text/markdown": "1. 'healthcare_dataset.csv'\n2. 'sample_data'\n\n\n",
            "text/latex": "\\begin{enumerate*}\n\\item 'healthcare\\_dataset.csv'\n\\item 'sample\\_data'\n\\end{enumerate*}\n",
            "text/plain": [
              "[1] \"healthcare_dataset.csv\" \"sample_data\"           "
            ]
          },
          "metadata": {}
        }
      ],
      "source": [
        "system(\"gdown --id 1GIaHWMhNmtB6AzJL77DmtO_qY2yVTQtS\")\n",
        "system(\"ls\", TRUE)"
      ]
    },
    {
      "cell_type": "code",
      "source": [
        "data <- read.csv(\"healthcare_dataset.csv\")"
      ],
      "metadata": {
        "id": "-E-D3sp4HtcC"
      },
      "execution_count": null,
      "outputs": []
    },
    {
      "cell_type": "code",
      "source": [
        "str(data)"
      ],
      "metadata": {
        "colab": {
          "base_uri": "https://localhost:8080/"
        },
        "id": "VQZ4OG9JHuYL",
        "outputId": "450627c6-684e-4583-a171-5c0387b1dae0"
      },
      "execution_count": null,
      "outputs": [
        {
          "output_type": "stream",
          "name": "stdout",
          "text": [
            "'data.frame':\t10000 obs. of  15 variables:\n",
            " $ Name              : chr  \"Tiffany Ramirez\" \"Ruben Burns\" \"Chad Byrd\" \"Antonio Frederick\" ...\n",
            " $ Age               : int  81 35 61 49 51 41 82 55 33 39 ...\n",
            " $ Gender            : chr  \"Female\" \"Male\" \"Male\" \"Male\" ...\n",
            " $ Blood.Type        : chr  \"O-\" \"O+\" \"B-\" \"B-\" ...\n",
            " $ Medical.Condition : chr  \"Diabetes\" \"Asthma\" \"Obesity\" \"Asthma\" ...\n",
            " $ Date.of.Admission : chr  \"2022-11-17\" \"2023-06-01\" \"2019-01-09\" \"2020-05-02\" ...\n",
            " $ Doctor            : chr  \"Patrick Parker\" \"Diane Jackson\" \"Paul Baker\" \"Brian Chandler\" ...\n",
            " $ Hospital          : chr  \"Wallace-Hamilton\" \"Burke, Griffin and Cooper\" \"Walton LLC\" \"Garcia Ltd\" ...\n",
            " $ Insurance.Provider: chr  \"Medicare\" \"UnitedHealthcare\" \"Medicare\" \"Medicare\" ...\n",
            " $ Billing.Amount    : num  37491 47304 36875 23303 18086 ...\n",
            " $ Room.Number       : int  146 404 292 480 477 180 161 384 215 310 ...\n",
            " $ Admission.Type    : chr  \"Elective\" \"Emergency\" \"Emergency\" \"Urgent\" ...\n",
            " $ Discharge.Date    : chr  \"2022-12-01\" \"2023-06-15\" \"2019-02-08\" \"2020-05-03\" ...\n",
            " $ Medication        : chr  \"Aspirin\" \"Lipitor\" \"Lipitor\" \"Penicillin\" ...\n",
            " $ Test.Results      : chr  \"Inconclusive\" \"Normal\" \"Normal\" \"Abnormal\" ...\n"
          ]
        }
      ]
    },
    {
      "cell_type": "code",
      "source": [
        "install.packages(\"tidyverse\")\n",
        "library(tidyverse)\n",
        "library(data.table)"
      ],
      "metadata": {
        "colab": {
          "base_uri": "https://localhost:8080/"
        },
        "id": "-BkeKBLVJgpR",
        "outputId": "1112a7f3-2dbb-4928-d793-7d6f6c13b536"
      },
      "execution_count": null,
      "outputs": [
        {
          "output_type": "stream",
          "name": "stderr",
          "text": [
            "Installing package into ‘/usr/local/lib/R/site-library’\n",
            "(as ‘lib’ is unspecified)\n",
            "\n",
            "── \u001b[1mAttaching core tidyverse packages\u001b[22m ──────────────────────── tidyverse 2.0.0 ──\n",
            "\u001b[32m✔\u001b[39m \u001b[34mdplyr    \u001b[39m 1.1.4     \u001b[32m✔\u001b[39m \u001b[34mreadr    \u001b[39m 2.1.4\n",
            "\u001b[32m✔\u001b[39m \u001b[34mforcats  \u001b[39m 1.0.0     \u001b[32m✔\u001b[39m \u001b[34mstringr  \u001b[39m 1.5.1\n",
            "\u001b[32m✔\u001b[39m \u001b[34mggplot2  \u001b[39m 3.4.4     \u001b[32m✔\u001b[39m \u001b[34mtibble   \u001b[39m 3.2.1\n",
            "\u001b[32m✔\u001b[39m \u001b[34mlubridate\u001b[39m 1.9.3     \u001b[32m✔\u001b[39m \u001b[34mtidyr    \u001b[39m 1.3.0\n",
            "\u001b[32m✔\u001b[39m \u001b[34mpurrr    \u001b[39m 1.0.2     \n",
            "── \u001b[1mConflicts\u001b[22m ────────────────────────────────────────── tidyverse_conflicts() ──\n",
            "\u001b[31m✖\u001b[39m \u001b[34mdplyr\u001b[39m::\u001b[32mfilter()\u001b[39m masks \u001b[34mstats\u001b[39m::filter()\n",
            "\u001b[31m✖\u001b[39m \u001b[34mdplyr\u001b[39m::\u001b[32mlag()\u001b[39m    masks \u001b[34mstats\u001b[39m::lag()\n",
            "\u001b[36mℹ\u001b[39m Use the conflicted package (\u001b[3m\u001b[34m<http://conflicted.r-lib.org/>\u001b[39m\u001b[23m) to force all conflicts to become errors\n",
            "\n",
            "Attaching package: ‘data.table’\n",
            "\n",
            "\n",
            "The following objects are masked from ‘package:lubridate’:\n",
            "\n",
            "    hour, isoweek, mday, minute, month, quarter, second, wday, week,\n",
            "    yday, year\n",
            "\n",
            "\n",
            "The following objects are masked from ‘package:dplyr’:\n",
            "\n",
            "    between, first, last\n",
            "\n",
            "\n",
            "The following object is masked from ‘package:purrr’:\n",
            "\n",
            "    transpose\n",
            "\n",
            "\n"
          ]
        }
      ]
    },
    {
      "cell_type": "code",
      "source": [
        "library(repr)"
      ],
      "metadata": {
        "id": "Fi8Kb5PWJdGT"
      },
      "execution_count": null,
      "outputs": []
    },
    {
      "cell_type": "code",
      "source": [
        "df <- fread(\"healthcare_dataset.csv\") %>% as_tibble()"
      ],
      "metadata": {
        "id": "SGa_4ohhJQGY"
      },
      "execution_count": null,
      "outputs": []
    },
    {
      "cell_type": "code",
      "source": [
        "summary(df)"
      ],
      "metadata": {
        "colab": {
          "base_uri": "https://localhost:8080/",
          "height": 528
        },
        "id": "U_FKDVxeJeQ6",
        "outputId": "20073afc-3019-46e0-d87c-f9b485264742"
      },
      "execution_count": null,
      "outputs": [
        {
          "output_type": "display_data",
          "data": {
            "text/plain": [
              "     Name                Age           Gender           Blood Type       \n",
              " Length:10000       Min.   :18.00   Length:10000       Length:10000      \n",
              " Class :character   1st Qu.:35.00   Class :character   Class :character  \n",
              " Mode  :character   Median :52.00   Mode  :character   Mode  :character  \n",
              "                    Mean   :51.45                                        \n",
              "                    3rd Qu.:68.00                                        \n",
              "                    Max.   :85.00                                        \n",
              " Medical Condition  Date of Admission       Doctor            Hospital        \n",
              " Length:10000       Min.   :2018-10-30   Length:10000       Length:10000      \n",
              " Class :character   1st Qu.:2020-02-10   Class :character   Class :character  \n",
              " Mode  :character   Median :2021-05-02   Mode  :character   Mode  :character  \n",
              "                    Mean   :2021-05-01                                        \n",
              "                    3rd Qu.:2022-07-23                                        \n",
              "                    Max.   :2023-10-30                                        \n",
              " Insurance Provider Billing Amount   Room Number    Admission Type    \n",
              " Length:10000       Min.   : 1000   Min.   :101.0   Length:10000      \n",
              " Class :character   1st Qu.:13507   1st Qu.:199.0   Class :character  \n",
              " Mode  :character   Median :25258   Median :299.0   Mode  :character  \n",
              "                    Mean   :25517   Mean   :300.1                     \n",
              "                    3rd Qu.:37734   3rd Qu.:400.0                     \n",
              "                    Max.   :49996   Max.   :500.0                     \n",
              " Discharge Date        Medication        Test Results      \n",
              " Min.   :2018-11-01   Length:10000       Length:10000      \n",
              " 1st Qu.:2020-02-23   Class :character   Class :character  \n",
              " Median :2021-05-18   Mode  :character   Mode  :character  \n",
              " Mean   :2021-05-17                                        \n",
              " 3rd Qu.:2022-08-07                                        \n",
              " Max.   :2023-11-27                                        "
            ]
          },
          "metadata": {}
        }
      ]
    },
    {
      "cell_type": "markdown",
      "source": [
        "# 로지스틱 회귀 분석\n",
        "## 귀무가설: 환자의 나이, 성별, 의학적 상태는 병원 퇴원 후 재입원 가능성에 영향을 미치지 않는다.<br/>\n",
        "## 대립가설: 환자의 나이, 성별, 의학적 상태는 병원 퇴원 후 재입원 가능성에 영향을 미친다.\n"
      ],
      "metadata": {
        "id": "huorUgclLDoE"
      }
    },
    {
      "cell_type": "code",
      "source": [
        "library(tidyverse)\n",
        "install.packages(\"rsample\")\n",
        "library(rsample)"
      ],
      "metadata": {
        "colab": {
          "base_uri": "https://localhost:8080/"
        },
        "id": "bdRXKmT3LOz_",
        "outputId": "9464f43c-58fe-4715-917c-ef6bf098a4f8"
      },
      "execution_count": null,
      "outputs": [
        {
          "output_type": "stream",
          "name": "stderr",
          "text": [
            "Installing package into ‘/usr/local/lib/R/site-library’\n",
            "(as ‘lib’ is unspecified)\n",
            "\n",
            "also installing the dependencies ‘listenv’, ‘parallelly’, ‘future’, ‘globals’, ‘warp’, ‘furrr’, ‘slider’\n",
            "\n",
            "\n"
          ]
        }
      ]
    },
    {
      "cell_type": "code",
      "source": [
        "df <- read.csv(\"healthcare_dataset.csv\")"
      ],
      "metadata": {
        "id": "SZ_845FGMqA0"
      },
      "execution_count": null,
      "outputs": []
    },
    {
      "cell_type": "code",
      "source": [
        "# 'Gender'와 'Medical Condition'을 팩터로 변환합니다.\n",
        "set.seed(42) # 재현 가능한 결과를 위해\n",
        "df$ReAdmission <- rbinom(n = nrow(df), size = 1, prob = 0.3) # 재입원 확률을 30%로 가정"
      ],
      "metadata": {
        "id": "na-viGJZMse2"
      },
      "execution_count": null,
      "outputs": []
    },
    {
      "cell_type": "code",
      "source": [
        "# 'ReAdmission' 이진 종속 변수 생성 (여기서는 예시로 가정합니다).\n",
        "# 실제 데이터에서는 이 변수가 재입원 여부를 나타내야 합니다.\n",
        "# 예를 들어 재입원 여부 데이터가 있다면 df$ReAdmission <- df$재입원여부_column_name\n",
        "# 데이터를 훈련 세트와 테스트 세트로 분할합니다.\n",
        "set.seed(42)\n",
        "data_split <- initial_split(df, prop = 0.7)\n",
        "train_data <- training(data_split)\n",
        "test_data <- testing(data_split)\n"
      ],
      "metadata": {
        "id": "uwFHoJ6Oidyu"
      },
      "execution_count": null,
      "outputs": []
    },
    {
      "cell_type": "code",
      "source": [
        "# 로지스틱 회귀 모델을 구축하고 학습합니다.\n",
        "logistic_model <- glm(ReAdmission ~ Age + Gender + Medical.Condition,\n",
        "                      data = train_data, family = binomial)"
      ],
      "metadata": {
        "id": "6ZECpDfiigF-"
      },
      "execution_count": null,
      "outputs": []
    },
    {
      "cell_type": "code",
      "source": [
        "# 모델의 요약을 출력합니다.\n",
        "summary(logistic_model)"
      ],
      "metadata": {
        "colab": {
          "base_uri": "https://localhost:8080/",
          "height": 474
        },
        "id": "ADR1cLImihRf",
        "outputId": "6d517bd7-6540-43e3-f056-9a759c2f06c8"
      },
      "execution_count": null,
      "outputs": [
        {
          "output_type": "display_data",
          "data": {
            "text/plain": [
              "\n",
              "Call:\n",
              "glm(formula = ReAdmission ~ Age + Gender + Medical.Condition, \n",
              "    family = binomial, data = train_data)\n",
              "\n",
              "Coefficients:\n",
              "                                Estimate Std. Error z value Pr(>|z|)    \n",
              "(Intercept)                   -0.8418787  0.0978861  -8.601   <2e-16 ***\n",
              "Age                            0.0001278  0.0013375   0.096   0.9239    \n",
              "GenderMale                     0.0267398  0.0521737   0.513   0.6083    \n",
              "Medical.ConditionAsthma        0.0017696  0.0895417   0.020   0.9842    \n",
              "Medical.ConditionCancer       -0.0208257  0.0900047  -0.231   0.8170    \n",
              "Medical.ConditionDiabetes     -0.0521453  0.0917014  -0.569   0.5696    \n",
              "Medical.ConditionHypertension  0.0781241  0.0893206   0.875   0.3818    \n",
              "Medical.ConditionObesity      -0.1539772  0.0921992  -1.670   0.0949 .  \n",
              "---\n",
              "Signif. codes:  0 ‘***’ 0.001 ‘**’ 0.01 ‘*’ 0.05 ‘.’ 0.1 ‘ ’ 1\n",
              "\n",
              "(Dispersion parameter for binomial family taken to be 1)\n",
              "\n",
              "    Null deviance: 8558.9  on 6999  degrees of freedom\n",
              "Residual deviance: 8551.5  on 6992  degrees of freedom\n",
              "AIC: 8567.5\n",
              "\n",
              "Number of Fisher Scoring iterations: 4\n"
            ]
          },
          "metadata": {}
        }
      ]
    }
  ]
}